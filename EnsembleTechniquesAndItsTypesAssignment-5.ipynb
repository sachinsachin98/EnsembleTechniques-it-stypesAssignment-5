{
 "cells": [
  {
   "cell_type": "code",
   "execution_count": 2,
   "id": "e45e8159-2c7a-4a3f-8877-0307e939f10e",
   "metadata": {},
   "outputs": [
    {
     "data": {
      "text/html": [
       "<div>\n",
       "<style scoped>\n",
       "    .dataframe tbody tr th:only-of-type {\n",
       "        vertical-align: middle;\n",
       "    }\n",
       "\n",
       "    .dataframe tbody tr th {\n",
       "        vertical-align: top;\n",
       "    }\n",
       "\n",
       "    .dataframe thead th {\n",
       "        text-align: right;\n",
       "    }\n",
       "</style>\n",
       "<table border=\"1\" class=\"dataframe\">\n",
       "  <thead>\n",
       "    <tr style=\"text-align: right;\">\n",
       "      <th></th>\n",
       "      <th>Age</th>\n",
       "      <th>Attrition</th>\n",
       "      <th>BusinessTravel</th>\n",
       "      <th>DailyRate</th>\n",
       "      <th>Department</th>\n",
       "      <th>DistanceFromHome</th>\n",
       "      <th>Education</th>\n",
       "      <th>EducationField</th>\n",
       "      <th>EmployeeCount</th>\n",
       "      <th>EmployeeNumber</th>\n",
       "      <th>...</th>\n",
       "      <th>RelationshipSatisfaction</th>\n",
       "      <th>StandardHours</th>\n",
       "      <th>StockOptionLevel</th>\n",
       "      <th>TotalWorkingYears</th>\n",
       "      <th>TrainingTimesLastYear</th>\n",
       "      <th>WorkLifeBalance</th>\n",
       "      <th>YearsAtCompany</th>\n",
       "      <th>YearsInCurrentRole</th>\n",
       "      <th>YearsSinceLastPromotion</th>\n",
       "      <th>YearsWithCurrManager</th>\n",
       "    </tr>\n",
       "  </thead>\n",
       "  <tbody>\n",
       "    <tr>\n",
       "      <th>0</th>\n",
       "      <td>41</td>\n",
       "      <td>Yes</td>\n",
       "      <td>Travel_Rarely</td>\n",
       "      <td>1102</td>\n",
       "      <td>Sales</td>\n",
       "      <td>1</td>\n",
       "      <td>2</td>\n",
       "      <td>Life Sciences</td>\n",
       "      <td>1</td>\n",
       "      <td>1</td>\n",
       "      <td>...</td>\n",
       "      <td>1</td>\n",
       "      <td>80</td>\n",
       "      <td>0</td>\n",
       "      <td>8</td>\n",
       "      <td>0</td>\n",
       "      <td>1</td>\n",
       "      <td>6</td>\n",
       "      <td>4</td>\n",
       "      <td>0</td>\n",
       "      <td>5</td>\n",
       "    </tr>\n",
       "    <tr>\n",
       "      <th>1</th>\n",
       "      <td>49</td>\n",
       "      <td>No</td>\n",
       "      <td>Travel_Frequently</td>\n",
       "      <td>279</td>\n",
       "      <td>Research &amp; Development</td>\n",
       "      <td>8</td>\n",
       "      <td>1</td>\n",
       "      <td>Life Sciences</td>\n",
       "      <td>1</td>\n",
       "      <td>2</td>\n",
       "      <td>...</td>\n",
       "      <td>4</td>\n",
       "      <td>80</td>\n",
       "      <td>1</td>\n",
       "      <td>10</td>\n",
       "      <td>3</td>\n",
       "      <td>3</td>\n",
       "      <td>10</td>\n",
       "      <td>7</td>\n",
       "      <td>1</td>\n",
       "      <td>7</td>\n",
       "    </tr>\n",
       "    <tr>\n",
       "      <th>2</th>\n",
       "      <td>37</td>\n",
       "      <td>Yes</td>\n",
       "      <td>Travel_Rarely</td>\n",
       "      <td>1373</td>\n",
       "      <td>Research &amp; Development</td>\n",
       "      <td>2</td>\n",
       "      <td>2</td>\n",
       "      <td>Other</td>\n",
       "      <td>1</td>\n",
       "      <td>4</td>\n",
       "      <td>...</td>\n",
       "      <td>2</td>\n",
       "      <td>80</td>\n",
       "      <td>0</td>\n",
       "      <td>7</td>\n",
       "      <td>3</td>\n",
       "      <td>3</td>\n",
       "      <td>0</td>\n",
       "      <td>0</td>\n",
       "      <td>0</td>\n",
       "      <td>0</td>\n",
       "    </tr>\n",
       "    <tr>\n",
       "      <th>3</th>\n",
       "      <td>33</td>\n",
       "      <td>No</td>\n",
       "      <td>Travel_Frequently</td>\n",
       "      <td>1392</td>\n",
       "      <td>Research &amp; Development</td>\n",
       "      <td>3</td>\n",
       "      <td>4</td>\n",
       "      <td>Life Sciences</td>\n",
       "      <td>1</td>\n",
       "      <td>5</td>\n",
       "      <td>...</td>\n",
       "      <td>3</td>\n",
       "      <td>80</td>\n",
       "      <td>0</td>\n",
       "      <td>8</td>\n",
       "      <td>3</td>\n",
       "      <td>3</td>\n",
       "      <td>8</td>\n",
       "      <td>7</td>\n",
       "      <td>3</td>\n",
       "      <td>0</td>\n",
       "    </tr>\n",
       "    <tr>\n",
       "      <th>4</th>\n",
       "      <td>27</td>\n",
       "      <td>No</td>\n",
       "      <td>Travel_Rarely</td>\n",
       "      <td>591</td>\n",
       "      <td>Research &amp; Development</td>\n",
       "      <td>2</td>\n",
       "      <td>1</td>\n",
       "      <td>Medical</td>\n",
       "      <td>1</td>\n",
       "      <td>7</td>\n",
       "      <td>...</td>\n",
       "      <td>4</td>\n",
       "      <td>80</td>\n",
       "      <td>1</td>\n",
       "      <td>6</td>\n",
       "      <td>3</td>\n",
       "      <td>3</td>\n",
       "      <td>2</td>\n",
       "      <td>2</td>\n",
       "      <td>2</td>\n",
       "      <td>2</td>\n",
       "    </tr>\n",
       "  </tbody>\n",
       "</table>\n",
       "<p>5 rows × 35 columns</p>\n",
       "</div>"
      ],
      "text/plain": [
       "   Age Attrition     BusinessTravel  DailyRate              Department  \\\n",
       "0   41       Yes      Travel_Rarely       1102                   Sales   \n",
       "1   49        No  Travel_Frequently        279  Research & Development   \n",
       "2   37       Yes      Travel_Rarely       1373  Research & Development   \n",
       "3   33        No  Travel_Frequently       1392  Research & Development   \n",
       "4   27        No      Travel_Rarely        591  Research & Development   \n",
       "\n",
       "   DistanceFromHome  Education EducationField  EmployeeCount  EmployeeNumber  \\\n",
       "0                 1          2  Life Sciences              1               1   \n",
       "1                 8          1  Life Sciences              1               2   \n",
       "2                 2          2          Other              1               4   \n",
       "3                 3          4  Life Sciences              1               5   \n",
       "4                 2          1        Medical              1               7   \n",
       "\n",
       "   ...  RelationshipSatisfaction StandardHours  StockOptionLevel  \\\n",
       "0  ...                         1            80                 0   \n",
       "1  ...                         4            80                 1   \n",
       "2  ...                         2            80                 0   \n",
       "3  ...                         3            80                 0   \n",
       "4  ...                         4            80                 1   \n",
       "\n",
       "   TotalWorkingYears  TrainingTimesLastYear WorkLifeBalance  YearsAtCompany  \\\n",
       "0                  8                      0               1               6   \n",
       "1                 10                      3               3              10   \n",
       "2                  7                      3               3               0   \n",
       "3                  8                      3               3               8   \n",
       "4                  6                      3               3               2   \n",
       "\n",
       "  YearsInCurrentRole  YearsSinceLastPromotion  YearsWithCurrManager  \n",
       "0                  4                        0                     5  \n",
       "1                  7                        1                     7  \n",
       "2                  0                        0                     0  \n",
       "3                  7                        3                     0  \n",
       "4                  2                        2                     2  \n",
       "\n",
       "[5 rows x 35 columns]"
      ]
     },
     "execution_count": 2,
     "metadata": {},
     "output_type": "execute_result"
    }
   ],
   "source": [
    "#Q1\n",
    "\n",
    "import pandas as pd\n",
    "df = pd.read_csv('Attrition.csv')\n",
    "df.head()"
   ]
  },
  {
   "cell_type": "code",
   "execution_count": 3,
   "id": "2fa3573a-4ea1-4a12-a9a2-0963ede4ef24",
   "metadata": {},
   "outputs": [],
   "source": [
    "X = df.drop(labels=['Attrition'],axis=1)\n",
    "Y = df[['Attrition']]\n"
   ]
  },
  {
   "cell_type": "code",
   "execution_count": 4,
   "id": "3cefa98e-c386-4364-a898-f70ce2c3a6ff",
   "metadata": {},
   "outputs": [
    {
     "data": {
      "text/html": [
       "<div>\n",
       "<style scoped>\n",
       "    .dataframe tbody tr th:only-of-type {\n",
       "        vertical-align: middle;\n",
       "    }\n",
       "\n",
       "    .dataframe tbody tr th {\n",
       "        vertical-align: top;\n",
       "    }\n",
       "\n",
       "    .dataframe thead th {\n",
       "        text-align: right;\n",
       "    }\n",
       "</style>\n",
       "<table border=\"1\" class=\"dataframe\">\n",
       "  <thead>\n",
       "    <tr style=\"text-align: right;\">\n",
       "      <th></th>\n",
       "      <th>Attrition</th>\n",
       "    </tr>\n",
       "  </thead>\n",
       "  <tbody>\n",
       "    <tr>\n",
       "      <th>0</th>\n",
       "      <td>1</td>\n",
       "    </tr>\n",
       "    <tr>\n",
       "      <th>1</th>\n",
       "      <td>0</td>\n",
       "    </tr>\n",
       "    <tr>\n",
       "      <th>2</th>\n",
       "      <td>1</td>\n",
       "    </tr>\n",
       "    <tr>\n",
       "      <th>3</th>\n",
       "      <td>0</td>\n",
       "    </tr>\n",
       "    <tr>\n",
       "      <th>4</th>\n",
       "      <td>0</td>\n",
       "    </tr>\n",
       "  </tbody>\n",
       "</table>\n",
       "</div>"
      ],
      "text/plain": [
       "   Attrition\n",
       "0          1\n",
       "1          0\n",
       "2          1\n",
       "3          0\n",
       "4          0"
      ]
     },
     "execution_count": 4,
     "metadata": {},
     "output_type": "execute_result"
    }
   ],
   "source": [
    "y_mapper = {'Yes':1,'No':0}\n",
    "Y = Y.replace(y_mapper)\n",
    "Y.head()"
   ]
  },
  {
   "cell_type": "code",
   "execution_count": 5,
   "id": "aba26767-1e23-4d94-bddc-9fec5169df90",
   "metadata": {},
   "outputs": [
    {
     "data": {
      "text/plain": [
       "['BusinessTravel',\n",
       " 'Department',\n",
       " 'EducationField',\n",
       " 'Gender',\n",
       " 'JobRole',\n",
       " 'MaritalStatus',\n",
       " 'Over18',\n",
       " 'OverTime']"
      ]
     },
     "execution_count": 5,
     "metadata": {},
     "output_type": "execute_result"
    }
   ],
   "source": [
    "cat_cols = list(X.select_dtypes(include='object').columns)\n",
    "num_cols = list(X.select_dtypes(exclude='object').columns)\n",
    "cat_cols"
   ]
  },
  {
   "cell_type": "code",
   "execution_count": 6,
   "id": "b977783e-2803-4dca-9c9f-4cd7ec11f06c",
   "metadata": {},
   "outputs": [
    {
     "data": {
      "text/plain": [
       "['Age',\n",
       " 'JobInvolvement',\n",
       " 'JobLevel',\n",
       " 'JobSatisfaction',\n",
       " 'MonthlyIncome',\n",
       " 'StockOptionLevel',\n",
       " 'TotalWorkingYears',\n",
       " 'YearsAtCompany',\n",
       " 'YearsInCurrentRole',\n",
       " 'YearsWithCurrManager']"
      ]
     },
     "execution_count": 6,
     "metadata": {},
     "output_type": "execute_result"
    }
   ],
   "source": [
    "from warnings import filterwarnings\n",
    "filterwarnings('ignore')\n",
    "from sklearn.feature_selection import SelectKBest, f_classif\n",
    "X_num = X[num_cols]\n",
    "k_best_numerical = SelectKBest(f_classif,k=10)\n",
    "k_best_numerical.fit_transform(X_num,Y)\n",
    "selected_num_features = list(X_num.columns[k_best_numerical.get_support()])\n",
    "selected_num_features"
   ]
  },
  {
   "cell_type": "code",
   "execution_count": 7,
   "id": "ac290d5b-5abe-4d8c-9670-bc3a54ac7666",
   "metadata": {},
   "outputs": [
    {
     "data": {
      "text/plain": [
       "['Department', 'EducationField', 'JobRole', 'MaritalStatus', 'OverTime']"
      ]
     },
     "execution_count": 7,
     "metadata": {},
     "output_type": "execute_result"
    }
   ],
   "source": [
    "from sklearn.feature_selection import SelectKBest, chi2\n",
    "X_cat = X[cat_cols]\n",
    "from sklearn.preprocessing import OrdinalEncoder\n",
    "oe = OrdinalEncoder()\n",
    "X_cat_encoded = pd.DataFrame(oe.fit_transform(X_cat),columns=oe.get_feature_names_out())\n",
    "k_best_categorical = SelectKBest(chi2,k=5)\n",
    "k_best_categorical.fit_transform(X_cat_encoded,Y)\n",
    "selected_cat_features = list(X_cat_encoded.columns[k_best_categorical.get_support()])\n",
    "selected_cat_features"
   ]
  },
  {
   "cell_type": "code",
   "execution_count": 8,
   "id": "ff368cda-b003-4908-acdf-88bf1fba1bb1",
   "metadata": {},
   "outputs": [
    {
     "data": {
      "text/plain": [
       "['Age',\n",
       " 'JobInvolvement',\n",
       " 'JobLevel',\n",
       " 'JobSatisfaction',\n",
       " 'MonthlyIncome',\n",
       " 'StockOptionLevel',\n",
       " 'TotalWorkingYears',\n",
       " 'YearsAtCompany',\n",
       " 'YearsInCurrentRole',\n",
       " 'YearsWithCurrManager',\n",
       " 'Department',\n",
       " 'EducationField',\n",
       " 'JobRole',\n",
       " 'MaritalStatus',\n",
       " 'OverTime']"
      ]
     },
     "execution_count": 8,
     "metadata": {},
     "output_type": "execute_result"
    }
   ],
   "source": [
    "selected_features = selected_num_features + selected_cat_features\n",
    "selected_features"
   ]
  },
  {
   "cell_type": "code",
   "execution_count": 9,
   "id": "1bac864c-f361-49f2-95f8-7c171d2a5640",
   "metadata": {},
   "outputs": [
    {
     "data": {
      "text/html": [
       "<div>\n",
       "<style scoped>\n",
       "    .dataframe tbody tr th:only-of-type {\n",
       "        vertical-align: middle;\n",
       "    }\n",
       "\n",
       "    .dataframe tbody tr th {\n",
       "        vertical-align: top;\n",
       "    }\n",
       "\n",
       "    .dataframe thead th {\n",
       "        text-align: right;\n",
       "    }\n",
       "</style>\n",
       "<table border=\"1\" class=\"dataframe\">\n",
       "  <thead>\n",
       "    <tr style=\"text-align: right;\">\n",
       "      <th></th>\n",
       "      <th>Age</th>\n",
       "      <th>JobInvolvement</th>\n",
       "      <th>JobLevel</th>\n",
       "      <th>JobSatisfaction</th>\n",
       "      <th>MonthlyIncome</th>\n",
       "      <th>StockOptionLevel</th>\n",
       "      <th>TotalWorkingYears</th>\n",
       "      <th>YearsAtCompany</th>\n",
       "      <th>YearsInCurrentRole</th>\n",
       "      <th>YearsWithCurrManager</th>\n",
       "      <th>Department</th>\n",
       "      <th>EducationField</th>\n",
       "      <th>JobRole</th>\n",
       "      <th>MaritalStatus</th>\n",
       "      <th>OverTime</th>\n",
       "    </tr>\n",
       "  </thead>\n",
       "  <tbody>\n",
       "    <tr>\n",
       "      <th>0</th>\n",
       "      <td>41</td>\n",
       "      <td>3</td>\n",
       "      <td>2</td>\n",
       "      <td>4</td>\n",
       "      <td>5993</td>\n",
       "      <td>0</td>\n",
       "      <td>8</td>\n",
       "      <td>6</td>\n",
       "      <td>4</td>\n",
       "      <td>5</td>\n",
       "      <td>Sales</td>\n",
       "      <td>Life Sciences</td>\n",
       "      <td>Sales Executive</td>\n",
       "      <td>Single</td>\n",
       "      <td>Yes</td>\n",
       "    </tr>\n",
       "    <tr>\n",
       "      <th>1</th>\n",
       "      <td>49</td>\n",
       "      <td>2</td>\n",
       "      <td>2</td>\n",
       "      <td>2</td>\n",
       "      <td>5130</td>\n",
       "      <td>1</td>\n",
       "      <td>10</td>\n",
       "      <td>10</td>\n",
       "      <td>7</td>\n",
       "      <td>7</td>\n",
       "      <td>Research &amp; Development</td>\n",
       "      <td>Life Sciences</td>\n",
       "      <td>Research Scientist</td>\n",
       "      <td>Married</td>\n",
       "      <td>No</td>\n",
       "    </tr>\n",
       "    <tr>\n",
       "      <th>2</th>\n",
       "      <td>37</td>\n",
       "      <td>2</td>\n",
       "      <td>1</td>\n",
       "      <td>3</td>\n",
       "      <td>2090</td>\n",
       "      <td>0</td>\n",
       "      <td>7</td>\n",
       "      <td>0</td>\n",
       "      <td>0</td>\n",
       "      <td>0</td>\n",
       "      <td>Research &amp; Development</td>\n",
       "      <td>Other</td>\n",
       "      <td>Laboratory Technician</td>\n",
       "      <td>Single</td>\n",
       "      <td>Yes</td>\n",
       "    </tr>\n",
       "    <tr>\n",
       "      <th>3</th>\n",
       "      <td>33</td>\n",
       "      <td>3</td>\n",
       "      <td>1</td>\n",
       "      <td>3</td>\n",
       "      <td>2909</td>\n",
       "      <td>0</td>\n",
       "      <td>8</td>\n",
       "      <td>8</td>\n",
       "      <td>7</td>\n",
       "      <td>0</td>\n",
       "      <td>Research &amp; Development</td>\n",
       "      <td>Life Sciences</td>\n",
       "      <td>Research Scientist</td>\n",
       "      <td>Married</td>\n",
       "      <td>Yes</td>\n",
       "    </tr>\n",
       "    <tr>\n",
       "      <th>4</th>\n",
       "      <td>27</td>\n",
       "      <td>3</td>\n",
       "      <td>1</td>\n",
       "      <td>2</td>\n",
       "      <td>3468</td>\n",
       "      <td>1</td>\n",
       "      <td>6</td>\n",
       "      <td>2</td>\n",
       "      <td>2</td>\n",
       "      <td>2</td>\n",
       "      <td>Research &amp; Development</td>\n",
       "      <td>Medical</td>\n",
       "      <td>Laboratory Technician</td>\n",
       "      <td>Married</td>\n",
       "      <td>No</td>\n",
       "    </tr>\n",
       "  </tbody>\n",
       "</table>\n",
       "</div>"
      ],
      "text/plain": [
       "   Age  JobInvolvement  JobLevel  JobSatisfaction  MonthlyIncome  \\\n",
       "0   41               3         2                4           5993   \n",
       "1   49               2         2                2           5130   \n",
       "2   37               2         1                3           2090   \n",
       "3   33               3         1                3           2909   \n",
       "4   27               3         1                2           3468   \n",
       "\n",
       "   StockOptionLevel  TotalWorkingYears  YearsAtCompany  YearsInCurrentRole  \\\n",
       "0                 0                  8               6                   4   \n",
       "1                 1                 10              10                   7   \n",
       "2                 0                  7               0                   0   \n",
       "3                 0                  8               8                   7   \n",
       "4                 1                  6               2                   2   \n",
       "\n",
       "   YearsWithCurrManager              Department EducationField  \\\n",
       "0                     5                   Sales  Life Sciences   \n",
       "1                     7  Research & Development  Life Sciences   \n",
       "2                     0  Research & Development          Other   \n",
       "3                     0  Research & Development  Life Sciences   \n",
       "4                     2  Research & Development        Medical   \n",
       "\n",
       "                 JobRole MaritalStatus OverTime  \n",
       "0        Sales Executive        Single      Yes  \n",
       "1     Research Scientist       Married       No  \n",
       "2  Laboratory Technician        Single      Yes  \n",
       "3     Research Scientist       Married      Yes  \n",
       "4  Laboratory Technician       Married       No  "
      ]
     },
     "execution_count": 9,
     "metadata": {},
     "output_type": "execute_result"
    }
   ],
   "source": [
    "X_selected = X[selected_features]\n",
    "X_selected.head()"
   ]
  },
  {
   "cell_type": "code",
   "execution_count": 10,
   "id": "8e4f5a7b-7300-47fc-97e4-26df74bb7975",
   "metadata": {},
   "outputs": [],
   "source": [
    "from sklearn.model_selection import train_test_split\n",
    "xtrain, xtest, ytrain, ytest = train_test_split(X_selected,Y,test_size=0.2,random_state=42,stratify=Y)"
   ]
  },
  {
   "cell_type": "code",
   "execution_count": 11,
   "id": "91a63912-0133-4c49-bb29-b2e05c7c94fc",
   "metadata": {},
   "outputs": [],
   "source": [
    "from sklearn.impute import SimpleImputer\n",
    "from sklearn.pipeline import Pipeline\n",
    "from sklearn.preprocessing import OneHotEncoder,StandardScaler\n",
    "\n",
    "num_pipeline = Pipeline(steps=[('imputer',SimpleImputer(strategy='mean')),\n",
    "                               ('scaler',StandardScaler())])\n",
    "\n",
    "cat_pipeline = Pipeline(steps=[('imputer',SimpleImputer(strategy='most_frequent')),\n",
    "                               ('one_hot_encoder',OneHotEncoder()),\n",
    "                               ('scaler',StandardScaler(with_mean=False))])"
   ]
  },
  {
   "cell_type": "code",
   "execution_count": 12,
   "id": "624c11a1-8eb1-493d-ab18-bf001f7b2cbe",
   "metadata": {},
   "outputs": [],
   "source": [
    "from sklearn.compose import ColumnTransformer\n",
    "preprocessor = ColumnTransformer([('num_pipeline',num_pipeline,selected_num_features),\n",
    "                                  ('cat_pipeline',cat_pipeline,selected_cat_features)])"
   ]
  },
  {
   "cell_type": "code",
   "execution_count": 13,
   "id": "a78407a2-1a4e-498d-ac42-a53a4c3d55f2",
   "metadata": {},
   "outputs": [
    {
     "data": {
      "text/plain": [
       "array(['num_pipeline__Age', 'num_pipeline__JobInvolvement',\n",
       "       'num_pipeline__JobLevel', 'num_pipeline__JobSatisfaction',\n",
       "       'num_pipeline__MonthlyIncome', 'num_pipeline__StockOptionLevel',\n",
       "       'num_pipeline__TotalWorkingYears', 'num_pipeline__YearsAtCompany',\n",
       "       'num_pipeline__YearsInCurrentRole',\n",
       "       'num_pipeline__YearsWithCurrManager',\n",
       "       'cat_pipeline__Department_Human Resources',\n",
       "       'cat_pipeline__Department_Research & Development',\n",
       "       'cat_pipeline__Department_Sales',\n",
       "       'cat_pipeline__EducationField_Human Resources',\n",
       "       'cat_pipeline__EducationField_Life Sciences',\n",
       "       'cat_pipeline__EducationField_Marketing',\n",
       "       'cat_pipeline__EducationField_Medical',\n",
       "       'cat_pipeline__EducationField_Other',\n",
       "       'cat_pipeline__EducationField_Technical Degree',\n",
       "       'cat_pipeline__JobRole_Healthcare Representative',\n",
       "       'cat_pipeline__JobRole_Human Resources',\n",
       "       'cat_pipeline__JobRole_Laboratory Technician',\n",
       "       'cat_pipeline__JobRole_Manager',\n",
       "       'cat_pipeline__JobRole_Manufacturing Director',\n",
       "       'cat_pipeline__JobRole_Research Director',\n",
       "       'cat_pipeline__JobRole_Research Scientist',\n",
       "       'cat_pipeline__JobRole_Sales Executive',\n",
       "       'cat_pipeline__JobRole_Sales Representative',\n",
       "       'cat_pipeline__MaritalStatus_Divorced',\n",
       "       'cat_pipeline__MaritalStatus_Married',\n",
       "       'cat_pipeline__MaritalStatus_Single', 'cat_pipeline__OverTime_No',\n",
       "       'cat_pipeline__OverTime_Yes'], dtype=object)"
      ]
     },
     "execution_count": 13,
     "metadata": {},
     "output_type": "execute_result"
    }
   ],
   "source": [
    "xtrain_transformed = pd.DataFrame(preprocessor.fit_transform(xtrain),columns=preprocessor.get_feature_names_out())\n",
    "xtest_transformed = pd.DataFrame(preprocessor.transform(xtest),columns=preprocessor.get_feature_names_out())\n",
    "preprocessor.get_feature_names_out()\n"
   ]
  },
  {
   "cell_type": "code",
   "execution_count": 14,
   "id": "0503da22-b89f-4ad1-b2e0-d9c4e8169926",
   "metadata": {},
   "outputs": [
    {
     "data": {
      "text/html": [
       "<style>#sk-container-id-1 {color: black;background-color: white;}#sk-container-id-1 pre{padding: 0;}#sk-container-id-1 div.sk-toggleable {background-color: white;}#sk-container-id-1 label.sk-toggleable__label {cursor: pointer;display: block;width: 100%;margin-bottom: 0;padding: 0.3em;box-sizing: border-box;text-align: center;}#sk-container-id-1 label.sk-toggleable__label-arrow:before {content: \"▸\";float: left;margin-right: 0.25em;color: #696969;}#sk-container-id-1 label.sk-toggleable__label-arrow:hover:before {color: black;}#sk-container-id-1 div.sk-estimator:hover label.sk-toggleable__label-arrow:before {color: black;}#sk-container-id-1 div.sk-toggleable__content {max-height: 0;max-width: 0;overflow: hidden;text-align: left;background-color: #f0f8ff;}#sk-container-id-1 div.sk-toggleable__content pre {margin: 0.2em;color: black;border-radius: 0.25em;background-color: #f0f8ff;}#sk-container-id-1 input.sk-toggleable__control:checked~div.sk-toggleable__content {max-height: 200px;max-width: 100%;overflow: auto;}#sk-container-id-1 input.sk-toggleable__control:checked~label.sk-toggleable__label-arrow:before {content: \"▾\";}#sk-container-id-1 div.sk-estimator input.sk-toggleable__control:checked~label.sk-toggleable__label {background-color: #d4ebff;}#sk-container-id-1 div.sk-label input.sk-toggleable__control:checked~label.sk-toggleable__label {background-color: #d4ebff;}#sk-container-id-1 input.sk-hidden--visually {border: 0;clip: rect(1px 1px 1px 1px);clip: rect(1px, 1px, 1px, 1px);height: 1px;margin: -1px;overflow: hidden;padding: 0;position: absolute;width: 1px;}#sk-container-id-1 div.sk-estimator {font-family: monospace;background-color: #f0f8ff;border: 1px dotted black;border-radius: 0.25em;box-sizing: border-box;margin-bottom: 0.5em;}#sk-container-id-1 div.sk-estimator:hover {background-color: #d4ebff;}#sk-container-id-1 div.sk-parallel-item::after {content: \"\";width: 100%;border-bottom: 1px solid gray;flex-grow: 1;}#sk-container-id-1 div.sk-label:hover label.sk-toggleable__label {background-color: #d4ebff;}#sk-container-id-1 div.sk-serial::before {content: \"\";position: absolute;border-left: 1px solid gray;box-sizing: border-box;top: 0;bottom: 0;left: 50%;z-index: 0;}#sk-container-id-1 div.sk-serial {display: flex;flex-direction: column;align-items: center;background-color: white;padding-right: 0.2em;padding-left: 0.2em;position: relative;}#sk-container-id-1 div.sk-item {position: relative;z-index: 1;}#sk-container-id-1 div.sk-parallel {display: flex;align-items: stretch;justify-content: center;background-color: white;position: relative;}#sk-container-id-1 div.sk-item::before, #sk-container-id-1 div.sk-parallel-item::before {content: \"\";position: absolute;border-left: 1px solid gray;box-sizing: border-box;top: 0;bottom: 0;left: 50%;z-index: -1;}#sk-container-id-1 div.sk-parallel-item {display: flex;flex-direction: column;z-index: 1;position: relative;background-color: white;}#sk-container-id-1 div.sk-parallel-item:first-child::after {align-self: flex-end;width: 50%;}#sk-container-id-1 div.sk-parallel-item:last-child::after {align-self: flex-start;width: 50%;}#sk-container-id-1 div.sk-parallel-item:only-child::after {width: 0;}#sk-container-id-1 div.sk-dashed-wrapped {border: 1px dashed gray;margin: 0 0.4em 0.5em 0.4em;box-sizing: border-box;padding-bottom: 0.4em;background-color: white;}#sk-container-id-1 div.sk-label label {font-family: monospace;font-weight: bold;display: inline-block;line-height: 1.2em;}#sk-container-id-1 div.sk-label-container {text-align: center;}#sk-container-id-1 div.sk-container {/* jupyter's `normalize.less` sets `[hidden] { display: none; }` but bootstrap.min.css set `[hidden] { display: none !important; }` so we also need the `!important` here to be able to override the default hidden behavior on the sphinx rendered scikit-learn.org. See: https://github.com/scikit-learn/scikit-learn/issues/21755 */display: inline-block !important;position: relative;}#sk-container-id-1 div.sk-text-repr-fallback {display: none;}</style><div id=\"sk-container-id-1\" class=\"sk-top-container\"><div class=\"sk-text-repr-fallback\"><pre>RandomForestClassifier(max_depth=8, random_state=21)</pre><b>In a Jupyter environment, please rerun this cell to show the HTML representation or trust the notebook. <br />On GitHub, the HTML representation is unable to render, please try loading this page with nbviewer.org.</b></div><div class=\"sk-container\" hidden><div class=\"sk-item\"><div class=\"sk-estimator sk-toggleable\"><input class=\"sk-toggleable__control sk-hidden--visually\" id=\"sk-estimator-id-1\" type=\"checkbox\" checked><label for=\"sk-estimator-id-1\" class=\"sk-toggleable__label sk-toggleable__label-arrow\">RandomForestClassifier</label><div class=\"sk-toggleable__content\"><pre>RandomForestClassifier(max_depth=8, random_state=21)</pre></div></div></div></div></div>"
      ],
      "text/plain": [
       "RandomForestClassifier(max_depth=8, random_state=21)"
      ]
     },
     "execution_count": 14,
     "metadata": {},
     "output_type": "execute_result"
    }
   ],
   "source": [
    "from sklearn.ensemble import RandomForestClassifier\n",
    "rfc = RandomForestClassifier(n_estimators=100,max_depth=8,random_state=21)\n",
    "rfc.fit(xtrain_transformed,ytrain)"
   ]
  },
  {
   "cell_type": "code",
   "execution_count": 15,
   "id": "f92ae1a7-23e5-4673-82c7-da787ca6ef26",
   "metadata": {},
   "outputs": [
    {
     "data": {
      "text/plain": [
       "array([0.85169492, 0.85957447, 0.85957447, 0.86382979, 0.87659574])"
      ]
     },
     "execution_count": 15,
     "metadata": {},
     "output_type": "execute_result"
    }
   ],
   "source": [
    "from sklearn.model_selection import cross_val_score, StratifiedKFold\n",
    "skf = StratifiedKFold(n_splits=5, shuffle=True)\n",
    "scores = cross_val_score(rfc,xtrain_transformed,ytrain,cv=skf,scoring='accuracy')\n",
    "scores"
   ]
  },
  {
   "cell_type": "code",
   "execution_count": 16,
   "id": "37d29e0e-1187-4906-809c-92f6bc701af7",
   "metadata": {},
   "outputs": [
    {
     "data": {
      "text/plain": [
       "0.8622538766678687"
      ]
     },
     "execution_count": 16,
     "metadata": {},
     "output_type": "execute_result"
    }
   ],
   "source": [
    "import numpy as np\n",
    "np.mean(scores)"
   ]
  },
  {
   "cell_type": "code",
   "execution_count": 17,
   "id": "fd85820b-9176-481f-ab4e-23aeb6b88231",
   "metadata": {},
   "outputs": [
    {
     "name": "stdout",
     "output_type": "stream",
     "text": [
      "Fitting 5 folds for each of 50 candidates, totalling 250 fits\n",
      "[CV 1/5] END max_depth=6, min_samples_leaf=2, min_samples_split=2, n_estimators=300;, score=0.864 total time=   0.7s\n",
      "[CV 2/5] END max_depth=6, min_samples_leaf=2, min_samples_split=2, n_estimators=300;, score=0.851 total time=   0.7s\n",
      "[CV 3/5] END max_depth=6, min_samples_leaf=2, min_samples_split=2, n_estimators=300;, score=0.872 total time=   0.7s\n",
      "[CV 4/5] END max_depth=6, min_samples_leaf=2, min_samples_split=2, n_estimators=300;, score=0.838 total time=   0.7s\n",
      "[CV 5/5] END max_depth=6, min_samples_leaf=2, min_samples_split=2, n_estimators=300;, score=0.885 total time=   0.7s\n",
      "[CV 1/5] END max_depth=7, min_samples_leaf=4, min_samples_split=5, n_estimators=200;, score=0.864 total time=   0.5s\n",
      "[CV 2/5] END max_depth=7, min_samples_leaf=4, min_samples_split=5, n_estimators=200;, score=0.847 total time=   0.5s\n",
      "[CV 3/5] END max_depth=7, min_samples_leaf=4, min_samples_split=5, n_estimators=200;, score=0.872 total time=   0.5s\n",
      "[CV 4/5] END max_depth=7, min_samples_leaf=4, min_samples_split=5, n_estimators=200;, score=0.834 total time=   0.5s\n",
      "[CV 5/5] END max_depth=7, min_samples_leaf=4, min_samples_split=5, n_estimators=200;, score=0.881 total time=   0.5s\n",
      "[CV 1/5] END max_depth=7, min_samples_leaf=2, min_samples_split=2, n_estimators=200;, score=0.860 total time=   0.5s\n",
      "[CV 2/5] END max_depth=7, min_samples_leaf=2, min_samples_split=2, n_estimators=200;, score=0.851 total time=   0.5s\n",
      "[CV 3/5] END max_depth=7, min_samples_leaf=2, min_samples_split=2, n_estimators=200;, score=0.860 total time=   0.5s\n",
      "[CV 4/5] END max_depth=7, min_samples_leaf=2, min_samples_split=2, n_estimators=200;, score=0.838 total time=   0.5s\n",
      "[CV 5/5] END max_depth=7, min_samples_leaf=2, min_samples_split=2, n_estimators=200;, score=0.881 total time=   0.5s\n",
      "[CV 1/5] END max_depth=6, min_samples_leaf=4, min_samples_split=2, n_estimators=300;, score=0.869 total time=   0.7s\n",
      "[CV 2/5] END max_depth=6, min_samples_leaf=4, min_samples_split=2, n_estimators=300;, score=0.847 total time=   0.7s\n",
      "[CV 3/5] END max_depth=6, min_samples_leaf=4, min_samples_split=2, n_estimators=300;, score=0.872 total time=   0.7s\n",
      "[CV 4/5] END max_depth=6, min_samples_leaf=4, min_samples_split=2, n_estimators=300;, score=0.838 total time=   0.7s\n",
      "[CV 5/5] END max_depth=6, min_samples_leaf=4, min_samples_split=2, n_estimators=300;, score=0.877 total time=   0.7s\n",
      "[CV 1/5] END max_depth=7, min_samples_leaf=3, min_samples_split=5, n_estimators=50;, score=0.869 total time=   0.1s\n",
      "[CV 2/5] END max_depth=7, min_samples_leaf=3, min_samples_split=5, n_estimators=50;, score=0.851 total time=   0.1s\n",
      "[CV 3/5] END max_depth=7, min_samples_leaf=3, min_samples_split=5, n_estimators=50;, score=0.855 total time=   0.1s\n",
      "[CV 4/5] END max_depth=7, min_samples_leaf=3, min_samples_split=5, n_estimators=50;, score=0.834 total time=   0.1s\n",
      "[CV 5/5] END max_depth=7, min_samples_leaf=3, min_samples_split=5, n_estimators=50;, score=0.889 total time=   0.1s\n",
      "[CV 1/5] END max_depth=6, min_samples_leaf=3, min_samples_split=5, n_estimators=10;, score=0.877 total time=   0.0s\n",
      "[CV 2/5] END max_depth=6, min_samples_leaf=3, min_samples_split=5, n_estimators=10;, score=0.855 total time=   0.0s\n",
      "[CV 3/5] END max_depth=6, min_samples_leaf=3, min_samples_split=5, n_estimators=10;, score=0.855 total time=   0.0s\n",
      "[CV 4/5] END max_depth=6, min_samples_leaf=3, min_samples_split=5, n_estimators=10;, score=0.838 total time=   0.0s\n",
      "[CV 5/5] END max_depth=6, min_samples_leaf=3, min_samples_split=5, n_estimators=10;, score=0.872 total time=   0.0s\n",
      "[CV 1/5] END max_depth=10, min_samples_leaf=4, min_samples_split=10, n_estimators=400;, score=0.864 total time=   1.0s\n",
      "[CV 2/5] END max_depth=10, min_samples_leaf=4, min_samples_split=10, n_estimators=400;, score=0.851 total time=   1.0s\n",
      "[CV 3/5] END max_depth=10, min_samples_leaf=4, min_samples_split=10, n_estimators=400;, score=0.872 total time=   1.0s\n",
      "[CV 4/5] END max_depth=10, min_samples_leaf=4, min_samples_split=10, n_estimators=400;, score=0.838 total time=   1.0s\n",
      "[CV 5/5] END max_depth=10, min_samples_leaf=4, min_samples_split=10, n_estimators=400;, score=0.881 total time=   1.0s\n",
      "[CV 1/5] END max_depth=10, min_samples_leaf=3, min_samples_split=10, n_estimators=400;, score=0.864 total time=   1.0s\n",
      "[CV 2/5] END max_depth=10, min_samples_leaf=3, min_samples_split=10, n_estimators=400;, score=0.851 total time=   1.0s\n",
      "[CV 3/5] END max_depth=10, min_samples_leaf=3, min_samples_split=10, n_estimators=400;, score=0.864 total time=   1.0s\n",
      "[CV 4/5] END max_depth=10, min_samples_leaf=3, min_samples_split=10, n_estimators=400;, score=0.843 total time=   1.0s\n",
      "[CV 5/5] END max_depth=10, min_samples_leaf=3, min_samples_split=10, n_estimators=400;, score=0.889 total time=   1.0s\n",
      "[CV 1/5] END max_depth=8, min_samples_leaf=2, min_samples_split=2, n_estimators=100;, score=0.864 total time=   0.3s\n",
      "[CV 2/5] END max_depth=8, min_samples_leaf=2, min_samples_split=2, n_estimators=100;, score=0.847 total time=   0.3s\n",
      "[CV 3/5] END max_depth=8, min_samples_leaf=2, min_samples_split=2, n_estimators=100;, score=0.860 total time=   0.3s\n",
      "[CV 4/5] END max_depth=8, min_samples_leaf=2, min_samples_split=2, n_estimators=100;, score=0.838 total time=   0.3s\n",
      "[CV 5/5] END max_depth=8, min_samples_leaf=2, min_samples_split=2, n_estimators=100;, score=0.885 total time=   0.3s\n",
      "[CV 1/5] END max_depth=9, min_samples_leaf=3, min_samples_split=2, n_estimators=300;, score=0.869 total time=   0.7s\n",
      "[CV 2/5] END max_depth=9, min_samples_leaf=3, min_samples_split=2, n_estimators=300;, score=0.847 total time=   0.7s\n",
      "[CV 3/5] END max_depth=9, min_samples_leaf=3, min_samples_split=2, n_estimators=300;, score=0.860 total time=   0.7s\n",
      "[CV 4/5] END max_depth=9, min_samples_leaf=3, min_samples_split=2, n_estimators=300;, score=0.838 total time=   0.7s\n",
      "[CV 5/5] END max_depth=9, min_samples_leaf=3, min_samples_split=2, n_estimators=300;, score=0.885 total time=   0.7s\n",
      "[CV 1/5] END max_depth=7, min_samples_leaf=3, min_samples_split=10, n_estimators=300;, score=0.864 total time=   0.7s\n",
      "[CV 2/5] END max_depth=7, min_samples_leaf=3, min_samples_split=10, n_estimators=300;, score=0.855 total time=   0.7s\n",
      "[CV 3/5] END max_depth=7, min_samples_leaf=3, min_samples_split=10, n_estimators=300;, score=0.872 total time=   0.7s\n",
      "[CV 4/5] END max_depth=7, min_samples_leaf=3, min_samples_split=10, n_estimators=300;, score=0.838 total time=   0.7s\n",
      "[CV 5/5] END max_depth=7, min_samples_leaf=3, min_samples_split=10, n_estimators=300;, score=0.877 total time=   0.7s\n",
      "[CV 1/5] END max_depth=9, min_samples_leaf=4, min_samples_split=2, n_estimators=300;, score=0.869 total time=   0.7s\n",
      "[CV 2/5] END max_depth=9, min_samples_leaf=4, min_samples_split=2, n_estimators=300;, score=0.851 total time=   0.7s\n",
      "[CV 3/5] END max_depth=9, min_samples_leaf=4, min_samples_split=2, n_estimators=300;, score=0.868 total time=   0.7s\n",
      "[CV 4/5] END max_depth=9, min_samples_leaf=4, min_samples_split=2, n_estimators=300;, score=0.838 total time=   0.7s\n",
      "[CV 5/5] END max_depth=9, min_samples_leaf=4, min_samples_split=2, n_estimators=300;, score=0.872 total time=   0.7s\n",
      "[CV 1/5] END max_depth=7, min_samples_leaf=5, min_samples_split=2, n_estimators=50;, score=0.864 total time=   0.1s\n",
      "[CV 2/5] END max_depth=7, min_samples_leaf=5, min_samples_split=2, n_estimators=50;, score=0.851 total time=   0.1s\n",
      "[CV 3/5] END max_depth=7, min_samples_leaf=5, min_samples_split=2, n_estimators=50;, score=0.868 total time=   0.1s\n",
      "[CV 4/5] END max_depth=7, min_samples_leaf=5, min_samples_split=2, n_estimators=50;, score=0.838 total time=   0.1s\n",
      "[CV 5/5] END max_depth=7, min_samples_leaf=5, min_samples_split=2, n_estimators=50;, score=0.864 total time=   0.1s\n",
      "[CV 1/5] END max_depth=9, min_samples_leaf=3, min_samples_split=10, n_estimators=400;, score=0.869 total time=   1.0s\n",
      "[CV 2/5] END max_depth=9, min_samples_leaf=3, min_samples_split=10, n_estimators=400;, score=0.847 total time=   1.0s\n",
      "[CV 3/5] END max_depth=9, min_samples_leaf=3, min_samples_split=10, n_estimators=400;, score=0.868 total time=   1.0s\n",
      "[CV 4/5] END max_depth=9, min_samples_leaf=3, min_samples_split=10, n_estimators=400;, score=0.834 total time=   1.0s\n",
      "[CV 5/5] END max_depth=9, min_samples_leaf=3, min_samples_split=10, n_estimators=400;, score=0.885 total time=   1.0s\n",
      "[CV 1/5] END max_depth=10, min_samples_leaf=6, min_samples_split=10, n_estimators=100;, score=0.869 total time=   0.2s\n",
      "[CV 2/5] END max_depth=10, min_samples_leaf=6, min_samples_split=10, n_estimators=100;, score=0.855 total time=   0.2s\n",
      "[CV 3/5] END max_depth=10, min_samples_leaf=6, min_samples_split=10, n_estimators=100;, score=0.868 total time=   0.2s\n",
      "[CV 4/5] END max_depth=10, min_samples_leaf=6, min_samples_split=10, n_estimators=100;, score=0.838 total time=   0.2s\n",
      "[CV 5/5] END max_depth=10, min_samples_leaf=6, min_samples_split=10, n_estimators=100;, score=0.868 total time=   0.2s\n",
      "[CV 1/5] END max_depth=8, min_samples_leaf=5, min_samples_split=10, n_estimators=10;, score=0.877 total time=   0.0s\n",
      "[CV 2/5] END max_depth=8, min_samples_leaf=5, min_samples_split=10, n_estimators=10;, score=0.860 total time=   0.0s\n",
      "[CV 3/5] END max_depth=8, min_samples_leaf=5, min_samples_split=10, n_estimators=10;, score=0.851 total time=   0.0s\n",
      "[CV 4/5] END max_depth=8, min_samples_leaf=5, min_samples_split=10, n_estimators=10;, score=0.855 total time=   0.0s\n",
      "[CV 5/5] END max_depth=8, min_samples_leaf=5, min_samples_split=10, n_estimators=10;, score=0.877 total time=   0.0s\n",
      "[CV 1/5] END max_depth=8, min_samples_leaf=3, min_samples_split=2, n_estimators=50;, score=0.860 total time=   0.1s\n",
      "[CV 2/5] END max_depth=8, min_samples_leaf=3, min_samples_split=2, n_estimators=50;, score=0.843 total time=   0.1s\n",
      "[CV 3/5] END max_depth=8, min_samples_leaf=3, min_samples_split=2, n_estimators=50;, score=0.860 total time=   0.1s\n",
      "[CV 4/5] END max_depth=8, min_samples_leaf=3, min_samples_split=2, n_estimators=50;, score=0.843 total time=   0.1s\n",
      "[CV 5/5] END max_depth=8, min_samples_leaf=3, min_samples_split=2, n_estimators=50;, score=0.877 total time=   0.1s\n",
      "[CV 1/5] END max_depth=4, min_samples_leaf=6, min_samples_split=10, n_estimators=50;, score=0.873 total time=   0.1s\n",
      "[CV 2/5] END max_depth=4, min_samples_leaf=6, min_samples_split=10, n_estimators=50;, score=0.847 total time=   0.1s\n",
      "[CV 3/5] END max_depth=4, min_samples_leaf=6, min_samples_split=10, n_estimators=50;, score=0.855 total time=   0.1s\n",
      "[CV 4/5] END max_depth=4, min_samples_leaf=6, min_samples_split=10, n_estimators=50;, score=0.838 total time=   0.1s\n",
      "[CV 5/5] END max_depth=4, min_samples_leaf=6, min_samples_split=10, n_estimators=50;, score=0.864 total time=   0.1s\n",
      "[CV 1/5] END max_depth=10, min_samples_leaf=4, min_samples_split=5, n_estimators=300;, score=0.869 total time=   0.7s\n",
      "[CV 2/5] END max_depth=10, min_samples_leaf=4, min_samples_split=5, n_estimators=300;, score=0.855 total time=   0.7s\n",
      "[CV 3/5] END max_depth=10, min_samples_leaf=4, min_samples_split=5, n_estimators=300;, score=0.864 total time=   0.7s\n",
      "[CV 4/5] END max_depth=10, min_samples_leaf=4, min_samples_split=5, n_estimators=300;, score=0.838 total time=   0.7s\n",
      "[CV 5/5] END max_depth=10, min_samples_leaf=4, min_samples_split=5, n_estimators=300;, score=0.881 total time=   0.7s\n",
      "[CV 1/5] END max_depth=10, min_samples_leaf=3, min_samples_split=2, n_estimators=100;, score=0.864 total time=   0.3s\n",
      "[CV 2/5] END max_depth=10, min_samples_leaf=3, min_samples_split=2, n_estimators=100;, score=0.860 total time=   0.3s\n",
      "[CV 3/5] END max_depth=10, min_samples_leaf=3, min_samples_split=2, n_estimators=100;, score=0.872 total time=   0.3s\n",
      "[CV 4/5] END max_depth=10, min_samples_leaf=3, min_samples_split=2, n_estimators=100;, score=0.838 total time=   0.3s\n",
      "[CV 5/5] END max_depth=10, min_samples_leaf=3, min_samples_split=2, n_estimators=100;, score=0.881 total time=   0.3s\n",
      "[CV 1/5] END max_depth=7, min_samples_leaf=3, min_samples_split=5, n_estimators=300;, score=0.864 total time=   0.7s\n",
      "[CV 2/5] END max_depth=7, min_samples_leaf=3, min_samples_split=5, n_estimators=300;, score=0.847 total time=   0.7s\n",
      "[CV 3/5] END max_depth=7, min_samples_leaf=3, min_samples_split=5, n_estimators=300;, score=0.868 total time=   0.7s\n",
      "[CV 4/5] END max_depth=7, min_samples_leaf=3, min_samples_split=5, n_estimators=300;, score=0.843 total time=   0.7s\n",
      "[CV 5/5] END max_depth=7, min_samples_leaf=3, min_samples_split=5, n_estimators=300;, score=0.877 total time=   0.7s\n",
      "[CV 1/5] END max_depth=9, min_samples_leaf=2, min_samples_split=5, n_estimators=100;, score=0.869 total time=   0.3s\n",
      "[CV 2/5] END max_depth=9, min_samples_leaf=2, min_samples_split=5, n_estimators=100;, score=0.855 total time=   0.3s\n",
      "[CV 3/5] END max_depth=9, min_samples_leaf=2, min_samples_split=5, n_estimators=100;, score=0.855 total time=   0.3s\n",
      "[CV 4/5] END max_depth=9, min_samples_leaf=2, min_samples_split=5, n_estimators=100;, score=0.834 total time=   0.3s\n",
      "[CV 5/5] END max_depth=9, min_samples_leaf=2, min_samples_split=5, n_estimators=100;, score=0.885 total time=   0.3s\n",
      "[CV 1/5] END max_depth=6, min_samples_leaf=4, min_samples_split=2, n_estimators=200;, score=0.860 total time=   0.5s\n",
      "[CV 2/5] END max_depth=6, min_samples_leaf=4, min_samples_split=2, n_estimators=200;, score=0.851 total time=   0.5s\n",
      "[CV 3/5] END max_depth=6, min_samples_leaf=4, min_samples_split=2, n_estimators=200;, score=0.860 total time=   0.5s\n",
      "[CV 4/5] END max_depth=6, min_samples_leaf=4, min_samples_split=2, n_estimators=200;, score=0.838 total time=   0.5s\n",
      "[CV 5/5] END max_depth=6, min_samples_leaf=4, min_samples_split=2, n_estimators=200;, score=0.877 total time=   0.5s\n",
      "[CV 1/5] END max_depth=10, min_samples_leaf=6, min_samples_split=5, n_estimators=50;, score=0.873 total time=   0.1s\n",
      "[CV 2/5] END max_depth=10, min_samples_leaf=6, min_samples_split=5, n_estimators=50;, score=0.860 total time=   0.1s\n",
      "[CV 3/5] END max_depth=10, min_samples_leaf=6, min_samples_split=5, n_estimators=50;, score=0.868 total time=   0.1s\n",
      "[CV 4/5] END max_depth=10, min_samples_leaf=6, min_samples_split=5, n_estimators=50;, score=0.838 total time=   0.1s\n",
      "[CV 5/5] END max_depth=10, min_samples_leaf=6, min_samples_split=5, n_estimators=50;, score=0.864 total time=   0.1s\n",
      "[CV 1/5] END max_depth=6, min_samples_leaf=5, min_samples_split=10, n_estimators=10;, score=0.864 total time=   0.0s\n",
      "[CV 2/5] END max_depth=6, min_samples_leaf=5, min_samples_split=10, n_estimators=10;, score=0.864 total time=   0.0s\n",
      "[CV 3/5] END max_depth=6, min_samples_leaf=5, min_samples_split=10, n_estimators=10;, score=0.868 total time=   0.0s\n",
      "[CV 4/5] END max_depth=6, min_samples_leaf=5, min_samples_split=10, n_estimators=10;, score=0.830 total time=   0.0s\n",
      "[CV 5/5] END max_depth=6, min_samples_leaf=5, min_samples_split=10, n_estimators=10;, score=0.860 total time=   0.0s\n",
      "[CV 1/5] END max_depth=4, min_samples_leaf=3, min_samples_split=10, n_estimators=300;, score=0.873 total time=   0.7s\n",
      "[CV 2/5] END max_depth=4, min_samples_leaf=3, min_samples_split=10, n_estimators=300;, score=0.847 total time=   0.7s\n",
      "[CV 3/5] END max_depth=4, min_samples_leaf=3, min_samples_split=10, n_estimators=300;, score=0.860 total time=   0.6s\n",
      "[CV 4/5] END max_depth=4, min_samples_leaf=3, min_samples_split=10, n_estimators=300;, score=0.838 total time=   0.6s\n",
      "[CV 5/5] END max_depth=4, min_samples_leaf=3, min_samples_split=10, n_estimators=300;, score=0.864 total time=   0.6s\n",
      "[CV 1/5] END max_depth=10, min_samples_leaf=3, min_samples_split=10, n_estimators=200;, score=0.864 total time=   0.5s\n",
      "[CV 2/5] END max_depth=10, min_samples_leaf=3, min_samples_split=10, n_estimators=200;, score=0.851 total time=   0.5s\n",
      "[CV 3/5] END max_depth=10, min_samples_leaf=3, min_samples_split=10, n_estimators=200;, score=0.868 total time=   0.5s\n",
      "[CV 4/5] END max_depth=10, min_samples_leaf=3, min_samples_split=10, n_estimators=200;, score=0.838 total time=   0.5s\n",
      "[CV 5/5] END max_depth=10, min_samples_leaf=3, min_samples_split=10, n_estimators=200;, score=0.885 total time=   0.5s\n",
      "[CV 1/5] END max_depth=8, min_samples_leaf=2, min_samples_split=2, n_estimators=400;, score=0.864 total time=   1.0s\n",
      "[CV 2/5] END max_depth=8, min_samples_leaf=2, min_samples_split=2, n_estimators=400;, score=0.851 total time=   1.0s\n",
      "[CV 3/5] END max_depth=8, min_samples_leaf=2, min_samples_split=2, n_estimators=400;, score=0.860 total time=   1.0s\n",
      "[CV 4/5] END max_depth=8, min_samples_leaf=2, min_samples_split=2, n_estimators=400;, score=0.834 total time=   1.0s\n",
      "[CV 5/5] END max_depth=8, min_samples_leaf=2, min_samples_split=2, n_estimators=400;, score=0.894 total time=   1.0s\n",
      "[CV 1/5] END max_depth=9, min_samples_leaf=4, min_samples_split=2, n_estimators=400;, score=0.869 total time=   1.0s\n",
      "[CV 2/5] END max_depth=9, min_samples_leaf=4, min_samples_split=2, n_estimators=400;, score=0.851 total time=   1.0s\n",
      "[CV 3/5] END max_depth=9, min_samples_leaf=4, min_samples_split=2, n_estimators=400;, score=0.868 total time=   1.0s\n",
      "[CV 4/5] END max_depth=9, min_samples_leaf=4, min_samples_split=2, n_estimators=400;, score=0.838 total time=   1.0s\n",
      "[CV 5/5] END max_depth=9, min_samples_leaf=4, min_samples_split=2, n_estimators=400;, score=0.885 total time=   1.0s\n",
      "[CV 1/5] END max_depth=4, min_samples_leaf=2, min_samples_split=5, n_estimators=300;, score=0.873 total time=   0.6s\n",
      "[CV 2/5] END max_depth=4, min_samples_leaf=2, min_samples_split=5, n_estimators=300;, score=0.851 total time=   0.6s\n",
      "[CV 3/5] END max_depth=4, min_samples_leaf=2, min_samples_split=5, n_estimators=300;, score=0.864 total time=   0.7s\n",
      "[CV 4/5] END max_depth=4, min_samples_leaf=2, min_samples_split=5, n_estimators=300;, score=0.838 total time=   0.7s\n",
      "[CV 5/5] END max_depth=4, min_samples_leaf=2, min_samples_split=5, n_estimators=300;, score=0.864 total time=   0.6s\n",
      "[CV 1/5] END max_depth=10, min_samples_leaf=3, min_samples_split=2, n_estimators=200;, score=0.869 total time=   0.5s\n",
      "[CV 2/5] END max_depth=10, min_samples_leaf=3, min_samples_split=2, n_estimators=200;, score=0.855 total time=   0.5s\n",
      "[CV 3/5] END max_depth=10, min_samples_leaf=3, min_samples_split=2, n_estimators=200;, score=0.872 total time=   0.5s\n",
      "[CV 4/5] END max_depth=10, min_samples_leaf=3, min_samples_split=2, n_estimators=200;, score=0.838 total time=   0.5s\n",
      "[CV 5/5] END max_depth=10, min_samples_leaf=3, min_samples_split=2, n_estimators=200;, score=0.877 total time=   0.5s\n",
      "[CV 1/5] END max_depth=6, min_samples_leaf=5, min_samples_split=2, n_estimators=400;, score=0.864 total time=   0.9s\n",
      "[CV 2/5] END max_depth=6, min_samples_leaf=5, min_samples_split=2, n_estimators=400;, score=0.851 total time=   0.9s\n",
      "[CV 3/5] END max_depth=6, min_samples_leaf=5, min_samples_split=2, n_estimators=400;, score=0.877 total time=   0.9s\n",
      "[CV 4/5] END max_depth=6, min_samples_leaf=5, min_samples_split=2, n_estimators=400;, score=0.838 total time=   0.9s\n",
      "[CV 5/5] END max_depth=6, min_samples_leaf=5, min_samples_split=2, n_estimators=400;, score=0.877 total time=   0.9s\n",
      "[CV 1/5] END max_depth=9, min_samples_leaf=4, min_samples_split=5, n_estimators=200;, score=0.869 total time=   0.5s\n",
      "[CV 2/5] END max_depth=9, min_samples_leaf=4, min_samples_split=5, n_estimators=200;, score=0.851 total time=   0.5s\n",
      "[CV 3/5] END max_depth=9, min_samples_leaf=4, min_samples_split=5, n_estimators=200;, score=0.872 total time=   0.5s\n",
      "[CV 4/5] END max_depth=9, min_samples_leaf=4, min_samples_split=5, n_estimators=200;, score=0.834 total time=   0.5s\n",
      "[CV 5/5] END max_depth=9, min_samples_leaf=4, min_samples_split=5, n_estimators=200;, score=0.881 total time=   0.5s\n",
      "[CV 1/5] END max_depth=4, min_samples_leaf=3, min_samples_split=2, n_estimators=300;, score=0.873 total time=   0.7s\n",
      "[CV 2/5] END max_depth=4, min_samples_leaf=3, min_samples_split=2, n_estimators=300;, score=0.847 total time=   0.6s\n",
      "[CV 3/5] END max_depth=4, min_samples_leaf=3, min_samples_split=2, n_estimators=300;, score=0.864 total time=   0.7s\n",
      "[CV 4/5] END max_depth=4, min_samples_leaf=3, min_samples_split=2, n_estimators=300;, score=0.838 total time=   0.6s\n",
      "[CV 5/5] END max_depth=4, min_samples_leaf=3, min_samples_split=2, n_estimators=300;, score=0.868 total time=   0.6s\n",
      "[CV 1/5] END max_depth=4, min_samples_leaf=3, min_samples_split=5, n_estimators=50;, score=0.877 total time=   0.1s\n",
      "[CV 2/5] END max_depth=4, min_samples_leaf=3, min_samples_split=5, n_estimators=50;, score=0.847 total time=   0.1s\n",
      "[CV 3/5] END max_depth=4, min_samples_leaf=3, min_samples_split=5, n_estimators=50;, score=0.860 total time=   0.1s\n",
      "[CV 4/5] END max_depth=4, min_samples_leaf=3, min_samples_split=5, n_estimators=50;, score=0.838 total time=   0.1s\n",
      "[CV 5/5] END max_depth=4, min_samples_leaf=3, min_samples_split=5, n_estimators=50;, score=0.860 total time=   0.1s\n",
      "[CV 1/5] END max_depth=4, min_samples_leaf=4, min_samples_split=2, n_estimators=300;, score=0.873 total time=   0.7s\n",
      "[CV 2/5] END max_depth=4, min_samples_leaf=4, min_samples_split=2, n_estimators=300;, score=0.847 total time=   0.6s\n",
      "[CV 3/5] END max_depth=4, min_samples_leaf=4, min_samples_split=2, n_estimators=300;, score=0.864 total time=   0.7s\n",
      "[CV 4/5] END max_depth=4, min_samples_leaf=4, min_samples_split=2, n_estimators=300;, score=0.838 total time=   0.6s\n",
      "[CV 5/5] END max_depth=4, min_samples_leaf=4, min_samples_split=2, n_estimators=300;, score=0.864 total time=   0.7s\n",
      "[CV 1/5] END max_depth=4, min_samples_leaf=6, min_samples_split=10, n_estimators=10;, score=0.856 total time=   0.0s\n",
      "[CV 2/5] END max_depth=4, min_samples_leaf=6, min_samples_split=10, n_estimators=10;, score=0.855 total time=   0.0s\n",
      "[CV 3/5] END max_depth=4, min_samples_leaf=6, min_samples_split=10, n_estimators=10;, score=0.851 total time=   0.0s\n",
      "[CV 4/5] END max_depth=4, min_samples_leaf=6, min_samples_split=10, n_estimators=10;, score=0.838 total time=   0.0s\n",
      "[CV 5/5] END max_depth=4, min_samples_leaf=6, min_samples_split=10, n_estimators=10;, score=0.868 total time=   0.0s\n",
      "[CV 1/5] END max_depth=8, min_samples_leaf=5, min_samples_split=5, n_estimators=400;, score=0.864 total time=   1.0s\n",
      "[CV 2/5] END max_depth=8, min_samples_leaf=5, min_samples_split=5, n_estimators=400;, score=0.847 total time=   1.0s\n",
      "[CV 3/5] END max_depth=8, min_samples_leaf=5, min_samples_split=5, n_estimators=400;, score=0.872 total time=   1.0s\n",
      "[CV 4/5] END max_depth=8, min_samples_leaf=5, min_samples_split=5, n_estimators=400;, score=0.838 total time=   1.0s\n",
      "[CV 5/5] END max_depth=8, min_samples_leaf=5, min_samples_split=5, n_estimators=400;, score=0.877 total time=   1.0s\n",
      "[CV 1/5] END max_depth=9, min_samples_leaf=2, min_samples_split=2, n_estimators=300;, score=0.864 total time=   0.7s\n",
      "[CV 2/5] END max_depth=9, min_samples_leaf=2, min_samples_split=2, n_estimators=300;, score=0.855 total time=   0.8s\n",
      "[CV 3/5] END max_depth=9, min_samples_leaf=2, min_samples_split=2, n_estimators=300;, score=0.855 total time=   0.8s\n",
      "[CV 4/5] END max_depth=9, min_samples_leaf=2, min_samples_split=2, n_estimators=300;, score=0.838 total time=   0.8s\n",
      "[CV 5/5] END max_depth=9, min_samples_leaf=2, min_samples_split=2, n_estimators=300;, score=0.889 total time=   0.8s\n",
      "[CV 1/5] END max_depth=6, min_samples_leaf=3, min_samples_split=5, n_estimators=200;, score=0.860 total time=   0.5s\n",
      "[CV 2/5] END max_depth=6, min_samples_leaf=3, min_samples_split=5, n_estimators=200;, score=0.847 total time=   0.5s\n",
      "[CV 3/5] END max_depth=6, min_samples_leaf=3, min_samples_split=5, n_estimators=200;, score=0.872 total time=   0.5s\n",
      "[CV 4/5] END max_depth=6, min_samples_leaf=3, min_samples_split=5, n_estimators=200;, score=0.838 total time=   0.5s\n",
      "[CV 5/5] END max_depth=6, min_samples_leaf=3, min_samples_split=5, n_estimators=200;, score=0.877 total time=   0.5s\n",
      "[CV 1/5] END max_depth=5, min_samples_leaf=3, min_samples_split=5, n_estimators=100;, score=0.864 total time=   0.2s\n",
      "[CV 2/5] END max_depth=5, min_samples_leaf=3, min_samples_split=5, n_estimators=100;, score=0.851 total time=   0.2s\n",
      "[CV 3/5] END max_depth=5, min_samples_leaf=3, min_samples_split=5, n_estimators=100;, score=0.868 total time=   0.2s\n",
      "[CV 4/5] END max_depth=5, min_samples_leaf=3, min_samples_split=5, n_estimators=100;, score=0.834 total time=   0.2s\n",
      "[CV 5/5] END max_depth=5, min_samples_leaf=3, min_samples_split=5, n_estimators=100;, score=0.877 total time=   0.2s\n",
      "[CV 1/5] END max_depth=10, min_samples_leaf=6, min_samples_split=10, n_estimators=200;, score=0.869 total time=   0.5s\n",
      "[CV 2/5] END max_depth=10, min_samples_leaf=6, min_samples_split=10, n_estimators=200;, score=0.855 total time=   0.5s\n",
      "[CV 3/5] END max_depth=10, min_samples_leaf=6, min_samples_split=10, n_estimators=200;, score=0.872 total time=   0.5s\n",
      "[CV 4/5] END max_depth=10, min_samples_leaf=6, min_samples_split=10, n_estimators=200;, score=0.834 total time=   0.5s\n",
      "[CV 5/5] END max_depth=10, min_samples_leaf=6, min_samples_split=10, n_estimators=200;, score=0.877 total time=   0.5s\n",
      "[CV 1/5] END max_depth=9, min_samples_leaf=6, min_samples_split=2, n_estimators=100;, score=0.869 total time=   0.2s\n",
      "[CV 2/5] END max_depth=9, min_samples_leaf=6, min_samples_split=2, n_estimators=100;, score=0.851 total time=   0.2s\n",
      "[CV 3/5] END max_depth=9, min_samples_leaf=6, min_samples_split=2, n_estimators=100;, score=0.860 total time=   0.2s\n",
      "[CV 4/5] END max_depth=9, min_samples_leaf=6, min_samples_split=2, n_estimators=100;, score=0.834 total time=   0.2s\n",
      "[CV 5/5] END max_depth=9, min_samples_leaf=6, min_samples_split=2, n_estimators=100;, score=0.872 total time=   0.2s\n",
      "[CV 1/5] END max_depth=8, min_samples_leaf=3, min_samples_split=5, n_estimators=50;, score=0.869 total time=   0.1s\n",
      "[CV 2/5] END max_depth=8, min_samples_leaf=3, min_samples_split=5, n_estimators=50;, score=0.855 total time=   0.1s\n",
      "[CV 3/5] END max_depth=8, min_samples_leaf=3, min_samples_split=5, n_estimators=50;, score=0.864 total time=   0.1s\n",
      "[CV 4/5] END max_depth=8, min_samples_leaf=3, min_samples_split=5, n_estimators=50;, score=0.838 total time=   0.1s\n",
      "[CV 5/5] END max_depth=8, min_samples_leaf=3, min_samples_split=5, n_estimators=50;, score=0.885 total time=   0.1s\n",
      "[CV 1/5] END max_depth=10, min_samples_leaf=4, min_samples_split=10, n_estimators=300;, score=0.864 total time=   0.7s\n",
      "[CV 2/5] END max_depth=10, min_samples_leaf=4, min_samples_split=10, n_estimators=300;, score=0.847 total time=   0.7s\n",
      "[CV 3/5] END max_depth=10, min_samples_leaf=4, min_samples_split=10, n_estimators=300;, score=0.872 total time=   0.7s\n",
      "[CV 4/5] END max_depth=10, min_samples_leaf=4, min_samples_split=10, n_estimators=300;, score=0.838 total time=   0.7s\n",
      "[CV 5/5] END max_depth=10, min_samples_leaf=4, min_samples_split=10, n_estimators=300;, score=0.885 total time=   0.7s\n",
      "[CV 1/5] END max_depth=5, min_samples_leaf=5, min_samples_split=5, n_estimators=200;, score=0.873 total time=   0.5s\n",
      "[CV 2/5] END max_depth=5, min_samples_leaf=5, min_samples_split=5, n_estimators=200;, score=0.847 total time=   0.4s\n",
      "[CV 3/5] END max_depth=5, min_samples_leaf=5, min_samples_split=5, n_estimators=200;, score=0.864 total time=   0.4s\n",
      "[CV 4/5] END max_depth=5, min_samples_leaf=5, min_samples_split=5, n_estimators=200;, score=0.834 total time=   0.4s\n",
      "[CV 5/5] END max_depth=5, min_samples_leaf=5, min_samples_split=5, n_estimators=200;, score=0.864 total time=   0.5s\n",
      "[CV 1/5] END max_depth=8, min_samples_leaf=6, min_samples_split=2, n_estimators=50;, score=0.864 total time=   0.1s\n",
      "[CV 2/5] END max_depth=8, min_samples_leaf=6, min_samples_split=2, n_estimators=50;, score=0.843 total time=   0.1s\n",
      "[CV 3/5] END max_depth=8, min_samples_leaf=6, min_samples_split=2, n_estimators=50;, score=0.868 total time=   0.1s\n",
      "[CV 4/5] END max_depth=8, min_samples_leaf=6, min_samples_split=2, n_estimators=50;, score=0.834 total time=   0.1s\n",
      "[CV 5/5] END max_depth=8, min_samples_leaf=6, min_samples_split=2, n_estimators=50;, score=0.872 total time=   0.1s\n",
      "[CV 1/5] END max_depth=10, min_samples_leaf=6, min_samples_split=10, n_estimators=400;, score=0.864 total time=   1.0s\n",
      "[CV 2/5] END max_depth=10, min_samples_leaf=6, min_samples_split=10, n_estimators=400;, score=0.851 total time=   1.0s\n",
      "[CV 3/5] END max_depth=10, min_samples_leaf=6, min_samples_split=10, n_estimators=400;, score=0.872 total time=   1.0s\n",
      "[CV 4/5] END max_depth=10, min_samples_leaf=6, min_samples_split=10, n_estimators=400;, score=0.834 total time=   1.0s\n",
      "[CV 5/5] END max_depth=10, min_samples_leaf=6, min_samples_split=10, n_estimators=400;, score=0.872 total time=   1.0s\n",
      "[CV 1/5] END max_depth=8, min_samples_leaf=4, min_samples_split=10, n_estimators=100;, score=0.860 total time=   0.2s\n",
      "[CV 2/5] END max_depth=8, min_samples_leaf=4, min_samples_split=10, n_estimators=100;, score=0.847 total time=   0.2s\n",
      "[CV 3/5] END max_depth=8, min_samples_leaf=4, min_samples_split=10, n_estimators=100;, score=0.864 total time=   0.2s\n",
      "[CV 4/5] END max_depth=8, min_samples_leaf=4, min_samples_split=10, n_estimators=100;, score=0.838 total time=   0.2s\n",
      "[CV 5/5] END max_depth=8, min_samples_leaf=4, min_samples_split=10, n_estimators=100;, score=0.877 total time=   0.2s\n",
      "[CV 1/5] END max_depth=10, min_samples_leaf=4, min_samples_split=10, n_estimators=200;, score=0.860 total time=   0.5s\n",
      "[CV 2/5] END max_depth=10, min_samples_leaf=4, min_samples_split=10, n_estimators=200;, score=0.847 total time=   0.5s\n",
      "[CV 3/5] END max_depth=10, min_samples_leaf=4, min_samples_split=10, n_estimators=200;, score=0.860 total time=   0.5s\n",
      "[CV 4/5] END max_depth=10, min_samples_leaf=4, min_samples_split=10, n_estimators=200;, score=0.834 total time=   0.5s\n",
      "[CV 5/5] END max_depth=10, min_samples_leaf=4, min_samples_split=10, n_estimators=200;, score=0.881 total time=   0.5s\n"
     ]
    },
    {
     "data": {
      "text/html": [
       "<style>#sk-container-id-2 {color: black;background-color: white;}#sk-container-id-2 pre{padding: 0;}#sk-container-id-2 div.sk-toggleable {background-color: white;}#sk-container-id-2 label.sk-toggleable__label {cursor: pointer;display: block;width: 100%;margin-bottom: 0;padding: 0.3em;box-sizing: border-box;text-align: center;}#sk-container-id-2 label.sk-toggleable__label-arrow:before {content: \"▸\";float: left;margin-right: 0.25em;color: #696969;}#sk-container-id-2 label.sk-toggleable__label-arrow:hover:before {color: black;}#sk-container-id-2 div.sk-estimator:hover label.sk-toggleable__label-arrow:before {color: black;}#sk-container-id-2 div.sk-toggleable__content {max-height: 0;max-width: 0;overflow: hidden;text-align: left;background-color: #f0f8ff;}#sk-container-id-2 div.sk-toggleable__content pre {margin: 0.2em;color: black;border-radius: 0.25em;background-color: #f0f8ff;}#sk-container-id-2 input.sk-toggleable__control:checked~div.sk-toggleable__content {max-height: 200px;max-width: 100%;overflow: auto;}#sk-container-id-2 input.sk-toggleable__control:checked~label.sk-toggleable__label-arrow:before {content: \"▾\";}#sk-container-id-2 div.sk-estimator input.sk-toggleable__control:checked~label.sk-toggleable__label {background-color: #d4ebff;}#sk-container-id-2 div.sk-label input.sk-toggleable__control:checked~label.sk-toggleable__label {background-color: #d4ebff;}#sk-container-id-2 input.sk-hidden--visually {border: 0;clip: rect(1px 1px 1px 1px);clip: rect(1px, 1px, 1px, 1px);height: 1px;margin: -1px;overflow: hidden;padding: 0;position: absolute;width: 1px;}#sk-container-id-2 div.sk-estimator {font-family: monospace;background-color: #f0f8ff;border: 1px dotted black;border-radius: 0.25em;box-sizing: border-box;margin-bottom: 0.5em;}#sk-container-id-2 div.sk-estimator:hover {background-color: #d4ebff;}#sk-container-id-2 div.sk-parallel-item::after {content: \"\";width: 100%;border-bottom: 1px solid gray;flex-grow: 1;}#sk-container-id-2 div.sk-label:hover label.sk-toggleable__label {background-color: #d4ebff;}#sk-container-id-2 div.sk-serial::before {content: \"\";position: absolute;border-left: 1px solid gray;box-sizing: border-box;top: 0;bottom: 0;left: 50%;z-index: 0;}#sk-container-id-2 div.sk-serial {display: flex;flex-direction: column;align-items: center;background-color: white;padding-right: 0.2em;padding-left: 0.2em;position: relative;}#sk-container-id-2 div.sk-item {position: relative;z-index: 1;}#sk-container-id-2 div.sk-parallel {display: flex;align-items: stretch;justify-content: center;background-color: white;position: relative;}#sk-container-id-2 div.sk-item::before, #sk-container-id-2 div.sk-parallel-item::before {content: \"\";position: absolute;border-left: 1px solid gray;box-sizing: border-box;top: 0;bottom: 0;left: 50%;z-index: -1;}#sk-container-id-2 div.sk-parallel-item {display: flex;flex-direction: column;z-index: 1;position: relative;background-color: white;}#sk-container-id-2 div.sk-parallel-item:first-child::after {align-self: flex-end;width: 50%;}#sk-container-id-2 div.sk-parallel-item:last-child::after {align-self: flex-start;width: 50%;}#sk-container-id-2 div.sk-parallel-item:only-child::after {width: 0;}#sk-container-id-2 div.sk-dashed-wrapped {border: 1px dashed gray;margin: 0 0.4em 0.5em 0.4em;box-sizing: border-box;padding-bottom: 0.4em;background-color: white;}#sk-container-id-2 div.sk-label label {font-family: monospace;font-weight: bold;display: inline-block;line-height: 1.2em;}#sk-container-id-2 div.sk-label-container {text-align: center;}#sk-container-id-2 div.sk-container {/* jupyter's `normalize.less` sets `[hidden] { display: none; }` but bootstrap.min.css set `[hidden] { display: none !important; }` so we also need the `!important` here to be able to override the default hidden behavior on the sphinx rendered scikit-learn.org. See: https://github.com/scikit-learn/scikit-learn/issues/21755 */display: inline-block !important;position: relative;}#sk-container-id-2 div.sk-text-repr-fallback {display: none;}</style><div id=\"sk-container-id-2\" class=\"sk-top-container\"><div class=\"sk-text-repr-fallback\"><pre>RandomizedSearchCV(cv=StratifiedKFold(n_splits=5, random_state=None, shuffle=True),\n",
       "                   estimator=RandomForestClassifier(), n_iter=50,\n",
       "                   param_distributions={&#x27;max_depth&#x27;: [4, 5, 6, 7, 8, 9, 10],\n",
       "                                        &#x27;min_samples_leaf&#x27;: [2, 3, 4, 5, 6],\n",
       "                                        &#x27;min_samples_split&#x27;: [2, 5, 10],\n",
       "                                        &#x27;n_estimators&#x27;: [10, 50, 100, 200, 300,\n",
       "                                                         400]},\n",
       "                   scoring=&#x27;accuracy&#x27;, verbose=3)</pre><b>In a Jupyter environment, please rerun this cell to show the HTML representation or trust the notebook. <br />On GitHub, the HTML representation is unable to render, please try loading this page with nbviewer.org.</b></div><div class=\"sk-container\" hidden><div class=\"sk-item sk-dashed-wrapped\"><div class=\"sk-label-container\"><div class=\"sk-label sk-toggleable\"><input class=\"sk-toggleable__control sk-hidden--visually\" id=\"sk-estimator-id-2\" type=\"checkbox\" ><label for=\"sk-estimator-id-2\" class=\"sk-toggleable__label sk-toggleable__label-arrow\">RandomizedSearchCV</label><div class=\"sk-toggleable__content\"><pre>RandomizedSearchCV(cv=StratifiedKFold(n_splits=5, random_state=None, shuffle=True),\n",
       "                   estimator=RandomForestClassifier(), n_iter=50,\n",
       "                   param_distributions={&#x27;max_depth&#x27;: [4, 5, 6, 7, 8, 9, 10],\n",
       "                                        &#x27;min_samples_leaf&#x27;: [2, 3, 4, 5, 6],\n",
       "                                        &#x27;min_samples_split&#x27;: [2, 5, 10],\n",
       "                                        &#x27;n_estimators&#x27;: [10, 50, 100, 200, 300,\n",
       "                                                         400]},\n",
       "                   scoring=&#x27;accuracy&#x27;, verbose=3)</pre></div></div></div><div class=\"sk-parallel\"><div class=\"sk-parallel-item\"><div class=\"sk-item\"><div class=\"sk-label-container\"><div class=\"sk-label sk-toggleable\"><input class=\"sk-toggleable__control sk-hidden--visually\" id=\"sk-estimator-id-3\" type=\"checkbox\" ><label for=\"sk-estimator-id-3\" class=\"sk-toggleable__label sk-toggleable__label-arrow\">estimator: RandomForestClassifier</label><div class=\"sk-toggleable__content\"><pre>RandomForestClassifier()</pre></div></div></div><div class=\"sk-serial\"><div class=\"sk-item\"><div class=\"sk-estimator sk-toggleable\"><input class=\"sk-toggleable__control sk-hidden--visually\" id=\"sk-estimator-id-4\" type=\"checkbox\" ><label for=\"sk-estimator-id-4\" class=\"sk-toggleable__label sk-toggleable__label-arrow\">RandomForestClassifier</label><div class=\"sk-toggleable__content\"><pre>RandomForestClassifier()</pre></div></div></div></div></div></div></div></div></div></div>"
      ],
      "text/plain": [
       "RandomizedSearchCV(cv=StratifiedKFold(n_splits=5, random_state=None, shuffle=True),\n",
       "                   estimator=RandomForestClassifier(), n_iter=50,\n",
       "                   param_distributions={'max_depth': [4, 5, 6, 7, 8, 9, 10],\n",
       "                                        'min_samples_leaf': [2, 3, 4, 5, 6],\n",
       "                                        'min_samples_split': [2, 5, 10],\n",
       "                                        'n_estimators': [10, 50, 100, 200, 300,\n",
       "                                                         400]},\n",
       "                   scoring='accuracy', verbose=3)"
      ]
     },
     "execution_count": 17,
     "metadata": {},
     "output_type": "execute_result"
    }
   ],
   "source": [
    "parameters = {\n",
    "    'n_estimators':[10,50,100,200,300,400],\n",
    "    'max_depth':[4,5,6,7,8,9,10],\n",
    "    'min_samples_leaf':[2,3,4,5,6],\n",
    "    'min_samples_split':[2,5,10]\n",
    "}\n",
    "from sklearn.model_selection import RandomizedSearchCV\n",
    "rscv = RandomizedSearchCV(RandomForestClassifier(),\n",
    "                          param_distributions=parameters,\n",
    "                          cv=skf,\n",
    "                          n_iter=50,\n",
    "                          scoring='accuracy',\n",
    "                          verbose=3)\n",
    "rscv.fit(xtrain_transformed,ytrain)"
   ]
  },
  {
   "cell_type": "code",
   "execution_count": 20,
   "id": "bdb94163-e975-4129-9299-b6e0f2beecd2",
   "metadata": {},
   "outputs": [
    {
     "data": {
      "text/html": [
       "<style>#sk-container-id-3 {color: black;background-color: white;}#sk-container-id-3 pre{padding: 0;}#sk-container-id-3 div.sk-toggleable {background-color: white;}#sk-container-id-3 label.sk-toggleable__label {cursor: pointer;display: block;width: 100%;margin-bottom: 0;padding: 0.3em;box-sizing: border-box;text-align: center;}#sk-container-id-3 label.sk-toggleable__label-arrow:before {content: \"▸\";float: left;margin-right: 0.25em;color: #696969;}#sk-container-id-3 label.sk-toggleable__label-arrow:hover:before {color: black;}#sk-container-id-3 div.sk-estimator:hover label.sk-toggleable__label-arrow:before {color: black;}#sk-container-id-3 div.sk-toggleable__content {max-height: 0;max-width: 0;overflow: hidden;text-align: left;background-color: #f0f8ff;}#sk-container-id-3 div.sk-toggleable__content pre {margin: 0.2em;color: black;border-radius: 0.25em;background-color: #f0f8ff;}#sk-container-id-3 input.sk-toggleable__control:checked~div.sk-toggleable__content {max-height: 200px;max-width: 100%;overflow: auto;}#sk-container-id-3 input.sk-toggleable__control:checked~label.sk-toggleable__label-arrow:before {content: \"▾\";}#sk-container-id-3 div.sk-estimator input.sk-toggleable__control:checked~label.sk-toggleable__label {background-color: #d4ebff;}#sk-container-id-3 div.sk-label input.sk-toggleable__control:checked~label.sk-toggleable__label {background-color: #d4ebff;}#sk-container-id-3 input.sk-hidden--visually {border: 0;clip: rect(1px 1px 1px 1px);clip: rect(1px, 1px, 1px, 1px);height: 1px;margin: -1px;overflow: hidden;padding: 0;position: absolute;width: 1px;}#sk-container-id-3 div.sk-estimator {font-family: monospace;background-color: #f0f8ff;border: 1px dotted black;border-radius: 0.25em;box-sizing: border-box;margin-bottom: 0.5em;}#sk-container-id-3 div.sk-estimator:hover {background-color: #d4ebff;}#sk-container-id-3 div.sk-parallel-item::after {content: \"\";width: 100%;border-bottom: 1px solid gray;flex-grow: 1;}#sk-container-id-3 div.sk-label:hover label.sk-toggleable__label {background-color: #d4ebff;}#sk-container-id-3 div.sk-serial::before {content: \"\";position: absolute;border-left: 1px solid gray;box-sizing: border-box;top: 0;bottom: 0;left: 50%;z-index: 0;}#sk-container-id-3 div.sk-serial {display: flex;flex-direction: column;align-items: center;background-color: white;padding-right: 0.2em;padding-left: 0.2em;position: relative;}#sk-container-id-3 div.sk-item {position: relative;z-index: 1;}#sk-container-id-3 div.sk-parallel {display: flex;align-items: stretch;justify-content: center;background-color: white;position: relative;}#sk-container-id-3 div.sk-item::before, #sk-container-id-3 div.sk-parallel-item::before {content: \"\";position: absolute;border-left: 1px solid gray;box-sizing: border-box;top: 0;bottom: 0;left: 50%;z-index: -1;}#sk-container-id-3 div.sk-parallel-item {display: flex;flex-direction: column;z-index: 1;position: relative;background-color: white;}#sk-container-id-3 div.sk-parallel-item:first-child::after {align-self: flex-end;width: 50%;}#sk-container-id-3 div.sk-parallel-item:last-child::after {align-self: flex-start;width: 50%;}#sk-container-id-3 div.sk-parallel-item:only-child::after {width: 0;}#sk-container-id-3 div.sk-dashed-wrapped {border: 1px dashed gray;margin: 0 0.4em 0.5em 0.4em;box-sizing: border-box;padding-bottom: 0.4em;background-color: white;}#sk-container-id-3 div.sk-label label {font-family: monospace;font-weight: bold;display: inline-block;line-height: 1.2em;}#sk-container-id-3 div.sk-label-container {text-align: center;}#sk-container-id-3 div.sk-container {/* jupyter's `normalize.less` sets `[hidden] { display: none; }` but bootstrap.min.css set `[hidden] { display: none !important; }` so we also need the `!important` here to be able to override the default hidden behavior on the sphinx rendered scikit-learn.org. See: https://github.com/scikit-learn/scikit-learn/issues/21755 */display: inline-block !important;position: relative;}#sk-container-id-3 div.sk-text-repr-fallback {display: none;}</style><div id=\"sk-container-id-3\" class=\"sk-top-container\"><div class=\"sk-text-repr-fallback\"><pre>RandomForestClassifier(max_depth=8, min_samples_leaf=5, min_samples_split=10,\n",
       "                       n_estimators=10)</pre><b>In a Jupyter environment, please rerun this cell to show the HTML representation or trust the notebook. <br />On GitHub, the HTML representation is unable to render, please try loading this page with nbviewer.org.</b></div><div class=\"sk-container\" hidden><div class=\"sk-item\"><div class=\"sk-estimator sk-toggleable\"><input class=\"sk-toggleable__control sk-hidden--visually\" id=\"sk-estimator-id-5\" type=\"checkbox\" checked><label for=\"sk-estimator-id-5\" class=\"sk-toggleable__label sk-toggleable__label-arrow\">RandomForestClassifier</label><div class=\"sk-toggleable__content\"><pre>RandomForestClassifier(max_depth=8, min_samples_leaf=5, min_samples_split=10,\n",
       "                       n_estimators=10)</pre></div></div></div></div></div>"
      ],
      "text/plain": [
       "RandomForestClassifier(max_depth=8, min_samples_leaf=5, min_samples_split=10,\n",
       "                       n_estimators=10)"
      ]
     },
     "execution_count": 20,
     "metadata": {},
     "output_type": "execute_result"
    }
   ],
   "source": [
    "best_rfc = rscv.best_estimator_\n",
    "best_rfc"
   ]
  },
  {
   "cell_type": "code",
   "execution_count": 21,
   "id": "40e90ab0-5133-46ce-bece-7f08f2887024",
   "metadata": {},
   "outputs": [
    {
     "data": {
      "text/plain": [
       "array([1, 0, 0, 0, 0, 0, 0, 0, 0, 0, 0, 0, 0, 0, 0, 1, 0, 0, 0, 0, 0, 0,\n",
       "       0, 0, 0, 0, 0, 0, 0, 0, 0, 0, 0, 0, 0, 0, 0, 0, 0, 1, 0, 0, 0, 0,\n",
       "       0, 0, 0, 0, 0, 0, 0, 0, 0, 0, 0, 0, 0, 0, 0, 0, 0, 0, 0, 0, 0, 0,\n",
       "       0, 0, 0, 0, 0, 0, 0, 0, 0, 0, 0, 0, 0, 0, 0, 0, 0, 0, 0, 0, 0, 0,\n",
       "       0, 0, 0, 0, 1, 0, 0, 0, 0, 0, 0, 0, 0, 0, 0, 0, 0, 0, 0, 0, 0, 0,\n",
       "       0, 0, 0, 0, 0, 0, 0, 0, 0, 0, 0, 0, 0, 0, 0, 0, 0, 0, 0, 0, 0, 0,\n",
       "       0, 0, 0, 1, 0, 0, 0, 0, 0, 0, 0, 0, 0, 0, 0, 0, 0, 0, 0, 0, 0, 0,\n",
       "       0, 0, 0, 0, 0, 0, 0, 0, 0, 0, 0, 0, 0, 0, 1, 0, 0, 0, 0, 0, 0, 0,\n",
       "       0, 0, 0, 0, 0, 0, 0, 1, 0, 0, 0, 0, 0, 0, 0, 0, 0, 0, 0, 0, 0, 0,\n",
       "       0, 1, 1, 0, 0, 0, 1, 0, 0, 0, 0, 0, 0, 0, 0, 0, 1, 0, 0, 0, 0, 0,\n",
       "       0, 0, 0, 1, 0, 0, 1, 0, 0, 0, 0, 0, 0, 0, 0, 0, 0, 0, 0, 0, 0, 0,\n",
       "       0, 0, 0, 0, 0, 0, 0, 0, 1, 0, 0, 0, 0, 0, 0, 0, 0, 0, 0, 0, 0, 0,\n",
       "       0, 0, 0, 0, 0, 0, 0, 0, 0, 0, 0, 0, 1, 0, 0, 0, 0, 0, 0, 0, 1, 0,\n",
       "       0, 0, 0, 0, 0, 0, 0, 0])"
      ]
     },
     "execution_count": 21,
     "metadata": {},
     "output_type": "execute_result"
    }
   ],
   "source": [
    "ypred_test = best_rfc.predict(xtest_transformed)\n",
    "ypred_test"
   ]
  },
  {
   "cell_type": "code",
   "execution_count": 22,
   "id": "818968f0-bbf9-4e7b-9646-ca9ec5da1e65",
   "metadata": {},
   "outputs": [
    {
     "name": "stdout",
     "output_type": "stream",
     "text": [
      "Accuracy on testing data is 0.8401\n"
     ]
    }
   ],
   "source": [
    "from sklearn.metrics import accuracy_score\n",
    "acc = accuracy_score(ytest, ypred_test)\n",
    "print(f'Accuracy on testing data is {acc:.4f}')"
   ]
  },
  {
   "cell_type": "code",
   "execution_count": 23,
   "id": "69684e33-9272-481e-bf0c-f118ea294c54",
   "metadata": {},
   "outputs": [],
   "source": [
    "#Q2\n",
    "\n",
    "from sklearn.datasets import load_iris\n",
    "X,Y = load_iris(return_X_y=True)"
   ]
  },
  {
   "cell_type": "code",
   "execution_count": 24,
   "id": "e9e2aa69-6aae-4db1-9514-735008874882",
   "metadata": {},
   "outputs": [],
   "source": [
    "from sklearn.model_selection import train_test_split\n",
    "xtrain, xtest, ytrain, ytest = train_test_split(X,Y,test_size=0.3,random_state=42)"
   ]
  },
  {
   "cell_type": "code",
   "execution_count": 25,
   "id": "6fc1f645-1d7c-452f-9c2b-65affa585b98",
   "metadata": {},
   "outputs": [],
   "source": [
    "from sklearn.preprocessing import StandardScaler\n",
    "scaler = StandardScaler()\n",
    "xtrain = scaler.fit_transform(xtrain)\n",
    "xtest = scaler.transform(xtest)"
   ]
  },
  {
   "cell_type": "code",
   "execution_count": 26,
   "id": "2fa997c8-df68-47ee-aff0-7ccf73fa3fec",
   "metadata": {},
   "outputs": [],
   "source": [
    "from sklearn.pipeline import Pipeline\n",
    "from sklearn.ensemble import RandomForestClassifier\n",
    "from sklearn.linear_model import LogisticRegression\n",
    "from sklearn.ensemble import VotingClassifier\n",
    "from sklearn.preprocessing import StandardScaler\n",
    "\n",
    "rfc = RandomForestClassifier(n_estimators=100,max_depth=4)\n",
    "lr = LogisticRegression(C=1.0)\n",
    "\n",
    "vc = VotingClassifier(estimators=[('rfc',rfc),\n",
    "                                  ('lr',lr)],\n",
    "                                  voting='soft')"
   ]
  },
  {
   "cell_type": "code",
   "execution_count": 27,
   "id": "0791ecac-8bba-4b24-9f1f-0c6853e9f861",
   "metadata": {},
   "outputs": [
    {
     "data": {
      "text/html": [
       "<style>#sk-container-id-4 {color: black;background-color: white;}#sk-container-id-4 pre{padding: 0;}#sk-container-id-4 div.sk-toggleable {background-color: white;}#sk-container-id-4 label.sk-toggleable__label {cursor: pointer;display: block;width: 100%;margin-bottom: 0;padding: 0.3em;box-sizing: border-box;text-align: center;}#sk-container-id-4 label.sk-toggleable__label-arrow:before {content: \"▸\";float: left;margin-right: 0.25em;color: #696969;}#sk-container-id-4 label.sk-toggleable__label-arrow:hover:before {color: black;}#sk-container-id-4 div.sk-estimator:hover label.sk-toggleable__label-arrow:before {color: black;}#sk-container-id-4 div.sk-toggleable__content {max-height: 0;max-width: 0;overflow: hidden;text-align: left;background-color: #f0f8ff;}#sk-container-id-4 div.sk-toggleable__content pre {margin: 0.2em;color: black;border-radius: 0.25em;background-color: #f0f8ff;}#sk-container-id-4 input.sk-toggleable__control:checked~div.sk-toggleable__content {max-height: 200px;max-width: 100%;overflow: auto;}#sk-container-id-4 input.sk-toggleable__control:checked~label.sk-toggleable__label-arrow:before {content: \"▾\";}#sk-container-id-4 div.sk-estimator input.sk-toggleable__control:checked~label.sk-toggleable__label {background-color: #d4ebff;}#sk-container-id-4 div.sk-label input.sk-toggleable__control:checked~label.sk-toggleable__label {background-color: #d4ebff;}#sk-container-id-4 input.sk-hidden--visually {border: 0;clip: rect(1px 1px 1px 1px);clip: rect(1px, 1px, 1px, 1px);height: 1px;margin: -1px;overflow: hidden;padding: 0;position: absolute;width: 1px;}#sk-container-id-4 div.sk-estimator {font-family: monospace;background-color: #f0f8ff;border: 1px dotted black;border-radius: 0.25em;box-sizing: border-box;margin-bottom: 0.5em;}#sk-container-id-4 div.sk-estimator:hover {background-color: #d4ebff;}#sk-container-id-4 div.sk-parallel-item::after {content: \"\";width: 100%;border-bottom: 1px solid gray;flex-grow: 1;}#sk-container-id-4 div.sk-label:hover label.sk-toggleable__label {background-color: #d4ebff;}#sk-container-id-4 div.sk-serial::before {content: \"\";position: absolute;border-left: 1px solid gray;box-sizing: border-box;top: 0;bottom: 0;left: 50%;z-index: 0;}#sk-container-id-4 div.sk-serial {display: flex;flex-direction: column;align-items: center;background-color: white;padding-right: 0.2em;padding-left: 0.2em;position: relative;}#sk-container-id-4 div.sk-item {position: relative;z-index: 1;}#sk-container-id-4 div.sk-parallel {display: flex;align-items: stretch;justify-content: center;background-color: white;position: relative;}#sk-container-id-4 div.sk-item::before, #sk-container-id-4 div.sk-parallel-item::before {content: \"\";position: absolute;border-left: 1px solid gray;box-sizing: border-box;top: 0;bottom: 0;left: 50%;z-index: -1;}#sk-container-id-4 div.sk-parallel-item {display: flex;flex-direction: column;z-index: 1;position: relative;background-color: white;}#sk-container-id-4 div.sk-parallel-item:first-child::after {align-self: flex-end;width: 50%;}#sk-container-id-4 div.sk-parallel-item:last-child::after {align-self: flex-start;width: 50%;}#sk-container-id-4 div.sk-parallel-item:only-child::after {width: 0;}#sk-container-id-4 div.sk-dashed-wrapped {border: 1px dashed gray;margin: 0 0.4em 0.5em 0.4em;box-sizing: border-box;padding-bottom: 0.4em;background-color: white;}#sk-container-id-4 div.sk-label label {font-family: monospace;font-weight: bold;display: inline-block;line-height: 1.2em;}#sk-container-id-4 div.sk-label-container {text-align: center;}#sk-container-id-4 div.sk-container {/* jupyter's `normalize.less` sets `[hidden] { display: none; }` but bootstrap.min.css set `[hidden] { display: none !important; }` so we also need the `!important` here to be able to override the default hidden behavior on the sphinx rendered scikit-learn.org. See: https://github.com/scikit-learn/scikit-learn/issues/21755 */display: inline-block !important;position: relative;}#sk-container-id-4 div.sk-text-repr-fallback {display: none;}</style><div id=\"sk-container-id-4\" class=\"sk-top-container\"><div class=\"sk-text-repr-fallback\"><pre>VotingClassifier(estimators=[(&#x27;rfc&#x27;, RandomForestClassifier(max_depth=4)),\n",
       "                             (&#x27;lr&#x27;, LogisticRegression())],\n",
       "                 voting=&#x27;soft&#x27;)</pre><b>In a Jupyter environment, please rerun this cell to show the HTML representation or trust the notebook. <br />On GitHub, the HTML representation is unable to render, please try loading this page with nbviewer.org.</b></div><div class=\"sk-container\" hidden><div class=\"sk-item sk-dashed-wrapped\"><div class=\"sk-label-container\"><div class=\"sk-label sk-toggleable\"><input class=\"sk-toggleable__control sk-hidden--visually\" id=\"sk-estimator-id-6\" type=\"checkbox\" ><label for=\"sk-estimator-id-6\" class=\"sk-toggleable__label sk-toggleable__label-arrow\">VotingClassifier</label><div class=\"sk-toggleable__content\"><pre>VotingClassifier(estimators=[(&#x27;rfc&#x27;, RandomForestClassifier(max_depth=4)),\n",
       "                             (&#x27;lr&#x27;, LogisticRegression())],\n",
       "                 voting=&#x27;soft&#x27;)</pre></div></div></div><div class=\"sk-parallel\"><div class=\"sk-parallel-item\"><div class=\"sk-item\"><div class=\"sk-label-container\"><div class=\"sk-label sk-toggleable\"><label>rfc</label></div></div><div class=\"sk-serial\"><div class=\"sk-item\"><div class=\"sk-estimator sk-toggleable\"><input class=\"sk-toggleable__control sk-hidden--visually\" id=\"sk-estimator-id-7\" type=\"checkbox\" ><label for=\"sk-estimator-id-7\" class=\"sk-toggleable__label sk-toggleable__label-arrow\">RandomForestClassifier</label><div class=\"sk-toggleable__content\"><pre>RandomForestClassifier(max_depth=4)</pre></div></div></div></div></div></div><div class=\"sk-parallel-item\"><div class=\"sk-item\"><div class=\"sk-label-container\"><div class=\"sk-label sk-toggleable\"><label>lr</label></div></div><div class=\"sk-serial\"><div class=\"sk-item\"><div class=\"sk-estimator sk-toggleable\"><input class=\"sk-toggleable__control sk-hidden--visually\" id=\"sk-estimator-id-8\" type=\"checkbox\" ><label for=\"sk-estimator-id-8\" class=\"sk-toggleable__label sk-toggleable__label-arrow\">LogisticRegression</label><div class=\"sk-toggleable__content\"><pre>LogisticRegression()</pre></div></div></div></div></div></div></div></div></div></div>"
      ],
      "text/plain": [
       "VotingClassifier(estimators=[('rfc', RandomForestClassifier(max_depth=4)),\n",
       "                             ('lr', LogisticRegression())],\n",
       "                 voting='soft')"
      ]
     },
     "execution_count": 27,
     "metadata": {},
     "output_type": "execute_result"
    }
   ],
   "source": [
    "vc.fit(xtrain,ytrain)"
   ]
  },
  {
   "cell_type": "code",
   "execution_count": 28,
   "id": "cf4b9893-c54f-4c73-9f91-d4fd2dbfe87e",
   "metadata": {},
   "outputs": [
    {
     "data": {
      "text/plain": [
       "array([1, 0, 2, 1, 1, 0, 1, 2, 1, 1, 2, 0, 0, 0, 0, 1, 2, 1, 1, 2, 0, 2,\n",
       "       0, 2, 2, 2, 2, 2, 0, 0, 0, 0, 1, 0, 0, 2, 1, 0, 0, 0, 2, 1, 1, 0,\n",
       "       0])"
      ]
     },
     "execution_count": 28,
     "metadata": {},
     "output_type": "execute_result"
    }
   ],
   "source": [
    "ypred_test = vc.predict(xtest)\n",
    "ypred_test"
   ]
  },
  {
   "cell_type": "code",
   "execution_count": 29,
   "id": "736d35bc-59bc-49eb-adbf-fc16f4f64dcf",
   "metadata": {},
   "outputs": [
    {
     "name": "stdout",
     "output_type": "stream",
     "text": [
      "              precision    recall  f1-score   support\n",
      "\n",
      "           0       1.00      1.00      1.00        19\n",
      "           1       1.00      1.00      1.00        13\n",
      "           2       1.00      1.00      1.00        13\n",
      "\n",
      "    accuracy                           1.00        45\n",
      "   macro avg       1.00      1.00      1.00        45\n",
      "weighted avg       1.00      1.00      1.00        45\n",
      "\n"
     ]
    }
   ],
   "source": [
    "from sklearn.metrics import classification_report\n",
    "print(classification_report(ytest,ypred_test))"
   ]
  },
  {
   "cell_type": "code",
   "execution_count": 30,
   "id": "c635c5a3-356a-4ec1-a868-61acb0d2a3a1",
   "metadata": {},
   "outputs": [
    {
     "name": "stdout",
     "output_type": "stream",
     "text": [
      "Accuracy on Final Voting Classifier model is 100.00%\n"
     ]
    }
   ],
   "source": [
    "from sklearn.metrics import accuracy_score\n",
    "acc = accuracy_score(ytest,ypred_test)\n",
    "print(f'Accuracy on Final Voting Classifier model is {acc*100:.2f}%')"
   ]
  },
  {
   "cell_type": "code",
   "execution_count": null,
   "id": "68006b50-cfe6-4ab9-96e6-c871d328e9b7",
   "metadata": {},
   "outputs": [],
   "source": []
  }
 ],
 "metadata": {
  "kernelspec": {
   "display_name": "Python 3 (ipykernel)",
   "language": "python",
   "name": "python3"
  },
  "language_info": {
   "codemirror_mode": {
    "name": "ipython",
    "version": 3
   },
   "file_extension": ".py",
   "mimetype": "text/x-python",
   "name": "python",
   "nbconvert_exporter": "python",
   "pygments_lexer": "ipython3",
   "version": "3.10.8"
  }
 },
 "nbformat": 4,
 "nbformat_minor": 5
}
